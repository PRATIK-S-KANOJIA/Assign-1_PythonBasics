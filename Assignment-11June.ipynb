{
 "cells": [
  {
   "cell_type": "code",
   "execution_count": null,
   "id": "30022818",
   "metadata": {},
   "outputs": [],
   "source": [
    "1. What is a lambda function in Python, and how does it differ from a regular function?"
   ]
  },
  {
   "cell_type": "code",
   "execution_count": null,
   "id": "2b583972",
   "metadata": {},
   "outputs": [],
   "source": [
    "A. A lambda function is a small anonymous function that can be defined without a name. It is also known as an anonymous \n",
    "    function because it doesnt require a separate def statement to define it.\n",
    "    Lambda functions are created using the lambda keyword, followed by a list of parameters, a colon (:), and an expression.\n",
    "    The expression is the functions body, and its result is returned when the function is called.\n",
    "    \n",
    "    lambda parameters: expression                   #General syntax of a lambda function\n",
    "    \n",
    "    Lambda functions are typically used when you need a simple function for a short period of time and dont want to\n",
    "    define a regular function using the def statement. They are commonly used in combination with higher-order functions\n",
    "    like map(), filter(), and reduce()."
   ]
  },
  {
   "cell_type": "code",
   "execution_count": null,
   "id": "ceab6d8e",
   "metadata": {},
   "outputs": [],
   "source": [
    "#Lambda functions differ from regular functions in a few ways:\n",
    "\n",
    "1.Syntax: Lambda functions are written in a more concise syntax compared to regular functions. They consist of a single\n",
    "    expression rather than a block of statements.\n",
    "\n",
    "2.Nameless: Lambda functions are anonymous, meaning they dont have a name assigned to them. They are defined inline \n",
    "    and can be used immediately.\n",
    "\n",
    "3.Limited Functionality: Due to their simplicity, lambda functions can only contain a single expression. They cant \n",
    "    include statements or multiple lines of code like regular functions.\n",
    "\n",
    "4.Scope: Lambda functions have access to variables in the enclosing scope, just like regular functions. This is known as \n",
    "    \"lexical scoping.\"\n",
    "\n",
    "    The results are the same, but the lambda function is defined in a more compact form without explicitly assigning\n",
    "    it a name."
   ]
  },
  {
   "cell_type": "code",
   "execution_count": null,
   "id": "b7eb9d16",
   "metadata": {},
   "outputs": [],
   "source": [
    "def square(x):                         # Regular function\n",
    "    return x ** 2\n",
    "\n",
    "lambda_square = lambda x: x ** 2       # Lambda function"
   ]
  },
  {
   "cell_type": "code",
   "execution_count": 12,
   "id": "a170a280",
   "metadata": {},
   "outputs": [
    {
     "data": {
      "text/plain": [
       "144"
      ]
     },
     "execution_count": 12,
     "metadata": {},
     "output_type": "execute_result"
    }
   ],
   "source": [
    "square(12)"
   ]
  },
  {
   "cell_type": "code",
   "execution_count": 13,
   "id": "93c7eaa5",
   "metadata": {},
   "outputs": [
    {
     "data": {
      "text/plain": [
       "144"
      ]
     },
     "execution_count": 13,
     "metadata": {},
     "output_type": "execute_result"
    }
   ],
   "source": [
    "lambda_square(12)"
   ]
  },
  {
   "cell_type": "code",
   "execution_count": null,
   "id": "a56e0bf3",
   "metadata": {},
   "outputs": [],
   "source": [
    "2. Can a lambda function in Python have multiple arguments? If yes, how can you define and use them?"
   ]
  },
  {
   "cell_type": "code",
   "execution_count": null,
   "id": "3d4ab328",
   "metadata": {},
   "outputs": [],
   "source": [
    "A. Yes, a lambda function in Python can have multiple arguments. You can define and use multiple arguments in a lambda \n",
    "    function by separating them with commas in the parameter list. The general syntax:\n",
    "        \n",
    "    lambda arg1, arg2,.., argn: expression\n",
    "    \n",
    "    Each argument represents a parameter that you can use within the expression. When the lambda function is called,\n",
    "    you pass values for each argument, and the expression is evaluated using those values."
   ]
  },
  {
   "cell_type": "code",
   "execution_count": 19,
   "id": "667eb12f",
   "metadata": {},
   "outputs": [
    {
     "data": {
      "text/plain": [
       "9.0"
      ]
     },
     "execution_count": 19,
     "metadata": {},
     "output_type": "execute_result"
    }
   ],
   "source": [
    "lambda_add = lambda x, y, z: x * y / z        # Lambda function with multiple arguments\n",
    "\n",
    "lambda_add(3, 6, 2)   "
   ]
  },
  {
   "cell_type": "code",
   "execution_count": null,
   "id": "f5eefafc",
   "metadata": {},
   "outputs": [],
   "source": [
    "    We can define lambda functions with as many arguments as needed by separating them with commas. Just make sure that the\n",
    "    number of arguments passed when calling the lambda function matches the number of arguments defined in the lambda \n",
    "    functions parameter list."
   ]
  },
  {
   "cell_type": "code",
   "execution_count": null,
   "id": "680761c5",
   "metadata": {},
   "outputs": [],
   "source": [
    "3. How are lambda functions typically used in Python? Provide an example use case."
   ]
  },
  {
   "cell_type": "code",
   "execution_count": null,
   "id": "f6006683",
   "metadata": {},
   "outputs": [],
   "source": [
    "A. Lambda functions are commonly used in Python in combination with higher-order functions such as map(), filter(), and \n",
    "    reduce(). These functions accept other functions as arguments, and lambda functions provide a convenient way to define\n",
    "    small, one-time functions on the fly without explicitly defining a regular function.\n",
    "    \n",
    "    1. Mapping: The map() function applies a given function to each element of an iterable and returns an iterator with\n",
    "        the results. Lambda functions are frequently used to define the mapping function."
   ]
  },
  {
   "cell_type": "code",
   "execution_count": 20,
   "id": "eea57718",
   "metadata": {},
   "outputs": [
    {
     "name": "stdout",
     "output_type": "stream",
     "text": [
      "[1, 4, 9, 16, 25]\n"
     ]
    }
   ],
   "source": [
    "numbers = [1, 2, 3, 4, 5]\n",
    "squared_numbers = map(lambda x: x ** 2, numbers)\n",
    "\n",
    "print(list(squared_numbers))"
   ]
  },
  {
   "cell_type": "code",
   "execution_count": null,
   "id": "0618e3d7",
   "metadata": {},
   "outputs": [],
   "source": [
    "    2. Filtering: The filter() function creates an iterator that contains only the elements from an iterable that satisfy \n",
    "        a certain condition. Lambda functions can be used to define the filtering condition."
   ]
  },
  {
   "cell_type": "code",
   "execution_count": 21,
   "id": "fa1983d5",
   "metadata": {},
   "outputs": [
    {
     "name": "stdout",
     "output_type": "stream",
     "text": [
      "[2, 4]\n"
     ]
    }
   ],
   "source": [
    "numbers = [1, 2, 3, 4, 5]\n",
    "even_numbers = filter(lambda x: x % 2 == 0, numbers)\n",
    "\n",
    "print(list(even_numbers))"
   ]
  },
  {
   "cell_type": "code",
   "execution_count": null,
   "id": "9adde14b",
   "metadata": {},
   "outputs": [],
   "source": [
    "    3. Reduce: The reduce() function in python takes a pre-defined function and applies it to all the elements in an\n",
    "        iterable (e.g., list, tuple, dictionary, etc.) and computes a single-valued result. This single-valued output\n",
    "        results from applying the reduce function on the iterable passed as an argument; only a single integer, string,\n",
    "        or boolean is returned."
   ]
  },
  {
   "cell_type": "code",
   "execution_count": 5,
   "id": "a9a62d86",
   "metadata": {},
   "outputs": [
    {
     "name": "stdout",
     "output_type": "stream",
     "text": [
      "15\n"
     ]
    }
   ],
   "source": [
    "from functools import reduce\n",
    "\n",
    "numbers = [1, 2, 3, 4, 5]\n",
    "\n",
    "result = reduce(lambda x, y: x + y, numbers)\n",
    "\n",
    "print(result)"
   ]
  },
  {
   "cell_type": "code",
   "execution_count": null,
   "id": "d5154c0e",
   "metadata": {},
   "outputs": [],
   "source": [
    "4. What are the advantages and limitations of lambda functions compared to regular functions in Python?"
   ]
  },
  {
   "cell_type": "code",
   "execution_count": null,
   "id": "c74028cd",
   "metadata": {},
   "outputs": [],
   "source": [
    "A. Lambda functions, also known as anonymous functions, have some advantages and limitations compared to regular \n",
    "    functions in Python."
   ]
  },
  {
   "cell_type": "code",
   "execution_count": null,
   "id": "f7169933",
   "metadata": {},
   "outputs": [],
   "source": [
    "#Advantages of Lambda Functions:\n",
    "\n",
    "    1.Concise Syntax: Lambda functions allow you to write functions in a more compact and expressive way, typically in a \n",
    "        single line of code. They are useful when you need to define simple functions without the need for a full function\n",
    "        definition.\n",
    "\n",
    "    2.Readability: Lambda functions can be helpful for improving code readability in situations where a small, short-lived \n",
    "        function is required. By keeping the function definition inline with the rest of the code, it can make the code \n",
    "        easier to understand and maintain.\n",
    "\n",
    "    3.Simplicity: Since lambda functions are defined inline and dont require a separate function name, they simplify the\n",
    "        code structure by avoiding the need to define a function using the def keyword.\n",
    "\n",
    "    4.Immediate Use: Lambda functions are often used in situations where a function is required as an argument to another \n",
    "        function, such as in higher-order functions like map(), filter(), and reduce(). Using lambda functions allows you\n",
    "        to define the function on the spot without the need for a separate function declaration."
   ]
  },
  {
   "cell_type": "code",
   "execution_count": null,
   "id": "a11e207c",
   "metadata": {},
   "outputs": [],
   "source": [
    "#Limitations of Lambda Functions:\n",
    "\n",
    "    1.Limited Functionality: Lambda functions are designed to be simple and concise. They are restricted to a single \n",
    "        expression and cannot contain multiple statements or complex logic. If you need to write more complex or reusable \n",
    "        functions, regular functions with a full function body are more appropriate.\n",
    "\n",
    "    2.Lack of Name: Lambda functions are anonymous, meaning they do not have a specific name associated with them. \n",
    "        This can make it difficult to refer to or debug the function when an error occurs. Regular functions, on the other\n",
    "        hand, have named identifiers, which makes them easier to work with in terms of debugging and traceability.\n",
    "\n",
    "    3.Limited Documentation: Since lambda functions lack a name and do not support docstrings, documenting their purpose\n",
    "        and usage can be challenging. Regular functions allow you to provide detailed documentation using docstrings,\n",
    "        making it easier for others (and yourself) to understand the functions behavior and purpose.\n",
    "\n",
    "    4.Limited Reusability: Lambda functions are typically used for small, one-off operations. They are not well-suited \n",
    "        for complex tasks or situations where you need to reuse the same function in multiple places within your code. \n",
    "        Regular functions can be defined once and reused throughout your program."
   ]
  },
  {
   "cell_type": "code",
   "execution_count": null,
   "id": "a84c1b6f",
   "metadata": {},
   "outputs": [],
   "source": [
    "In summary, lambda functions offer conciseness, simplicity, and improved readability for simple function definitions.\n",
    "However, they have limitations in terms of functionality, lack of a name for debugging, limited documentation capabilities,\n",
    "and reduced reusability compared to regular functions. The choice between lambda functions and regular functions depends \n",
    "on the specific requirements and complexity of your code."
   ]
  },
  {
   "cell_type": "code",
   "execution_count": null,
   "id": "5bd6ebcb",
   "metadata": {},
   "outputs": [],
   "source": [
    "5. Are lambda functions in Python able to access variables defined outside of their own scope? Explain with an example."
   ]
  },
  {
   "cell_type": "code",
   "execution_count": null,
   "id": "b1a28492",
   "metadata": {},
   "outputs": [],
   "source": [
    "A. Yes, lambda functions in Python can access variables defined outside of their own scope. This is achieved through \n",
    "    lexical scoping or closure, where a lambda function can \"capture\" and access variables from the surrounding scope \n",
    "    in which it is defined."
   ]
  },
  {
   "cell_type": "code",
   "execution_count": 1,
   "id": "c9439b8d",
   "metadata": {},
   "outputs": [
    {
     "name": "stdout",
     "output_type": "stream",
     "text": [
      "10\n",
      "15\n"
     ]
    }
   ],
   "source": [
    "def multiplier(n):\n",
    "    return lambda x: x * n\n",
    "\n",
    "multiply_by_2 = multiplier(2)\n",
    "multiply_by_3 = multiplier(3)\n",
    "\n",
    "print(multiply_by_2(5))  \n",
    "print(multiply_by_3(5))"
   ]
  },
  {
   "cell_type": "code",
   "execution_count": null,
   "id": "f30f46f6",
   "metadata": {},
   "outputs": [],
   "source": [
    "In this example, we have a function multiplier that takes a parameter n and returns a lambda function. The lambda function \n",
    "takes another parameter x and multiplies it by n.\n",
    "\n",
    "When we call multiplier(2), it returns a lambda function that multiplies its argument by 2, creating a closure that \n",
    "\"captures\" the value of n. We assign this lambda function to the variable multiply_by_2. Similarly, when we call \n",
    "multiplier(3), we create another closure that captures the value of n as 3 and assign it to multiply_by_3.\n",
    "\n",
    "When we subsequently call multiply_by_2(5), it invokes the lambda function with x as 5 and n as 2, resulting in the \n",
    "multiplication 5 * 2 which gives us 10. Similarly, calling multiply_by_3(5) multiplies 5 by 3 and returns 15.\n",
    "\n",
    "In this example, the lambda functions multiply_by_2 and multiply_by_3 are able to access the variable n from their\n",
    "enclosing scope (the multiplier function) even after the multiplier function has completed its execution. \n",
    "This is because lambda functions in Python retain a reference to variables they capture from their enclosing scope, \n",
    "allowing them to access and use those variables when invoked later."
   ]
  },
  {
   "cell_type": "code",
   "execution_count": null,
   "id": "69bb53b0",
   "metadata": {},
   "outputs": [],
   "source": [
    "6. Write a lambda function to calculate the square of a given number."
   ]
  },
  {
   "cell_type": "code",
   "execution_count": 3,
   "id": "a0ce77c1",
   "metadata": {},
   "outputs": [
    {
     "name": "stdout",
     "output_type": "stream",
     "text": [
      "49\n"
     ]
    }
   ],
   "source": [
    "#A. \n",
    "square = lambda x: x**2\n",
    "\n",
    "result = square(7)\n",
    "print(result)"
   ]
  },
  {
   "cell_type": "code",
   "execution_count": null,
   "id": "b5b29e6c",
   "metadata": {},
   "outputs": [],
   "source": [
    " In Ex. The lambda function square takes a single parameter x and returns the square of x using the exponentiation operator **.\n",
    "        We assign this lambda function to the variable square."
   ]
  },
  {
   "cell_type": "code",
   "execution_count": null,
   "id": "26fd104a",
   "metadata": {},
   "outputs": [],
   "source": [
    "7. Create a lambda function to find the maximum value in a list of integers"
   ]
  },
  {
   "cell_type": "code",
   "execution_count": null,
   "id": "fcbc7acd",
   "metadata": {},
   "outputs": [],
   "source": [
    "#A.\n",
    "numbers = [3, 8, 2, 10, 5]\n",
    "\n",
    "maximum = lambda nums: max(nums)\n",
    "\n",
    "result = maximum(numbers)\n",
    "print(result) "
   ]
  },
  {
   "cell_type": "code",
   "execution_count": null,
   "id": "3918c4e7",
   "metadata": {},
   "outputs": [],
   "source": [
    "In this example, the lambda function maximum takes a single parameter nums, which represents the list of integers.\n",
    "The lambda function uses the built-in max() function to find the maximum value within the given list.\n",
    "\n",
    "We assign this lambda function to the variable maximum.\n",
    "\n",
    "Next, we define a list of integers numbers with values [3, 8, 2, 10, 5].\n",
    "\n",
    "When we call maximum(numbers), it invokes the lambda function with nums as numbers, and the lambda function returns \n",
    "the maximum value of the list using the max() function. In this case, the maximum value is 10. "
   ]
  },
  {
   "cell_type": "code",
   "execution_count": null,
   "id": "b1d14437",
   "metadata": {},
   "outputs": [],
   "source": [
    "8. Implement a lambda function to filter out all the even numbers from a list of integers."
   ]
  },
  {
   "cell_type": "code",
   "execution_count": 4,
   "id": "cdd7c3a1",
   "metadata": {},
   "outputs": [
    {
     "name": "stdout",
     "output_type": "stream",
     "text": [
      "[2, 4, 6, 8, 10]\n"
     ]
    }
   ],
   "source": [
    "#A. \n",
    "numbers = [1, 2, 3, 4, 5, 6, 7, 8, 9, 10]\n",
    "\n",
    "evens = list(filter(lambda x: x % 2 == 0, numbers))\n",
    "\n",
    "print(evens)"
   ]
  },
  {
   "cell_type": "code",
   "execution_count": null,
   "id": "c9ccd63a",
   "metadata": {},
   "outputs": [],
   "source": [
    "The filter() function is used to apply a lambda function to each element of the list and return a new list containing \n",
    "only the elements that satisfy the given condition.\n",
    "\n",
    "The lambda function lambda x: x % 2 == 0 is used as the filtering condition. It takes a single parameter x, which \n",
    "represents each element of the list, and checks if the element is divisible by 2 (i.e., if it is even) by using the \n",
    "modulus operator %.\n",
    "\n",
    "We pass the lambda function and the list numbers to the filter() function, and the resulting filtered elements are\n",
    "stored in the evens variable."
   ]
  },
  {
   "cell_type": "code",
   "execution_count": null,
   "id": "084a2ee0",
   "metadata": {},
   "outputs": [],
   "source": [
    "9. Write a lambda function to sort a list of strings in ascending order based on the length of each string."
   ]
  },
  {
   "cell_type": "code",
   "execution_count": 6,
   "id": "8e3bcb5b",
   "metadata": {},
   "outputs": [
    {
     "name": "stdout",
     "output_type": "stream",
     "text": [
      "['kiwi', 'apple', 'grape', 'banana', 'orange']\n"
     ]
    }
   ],
   "source": [
    "#A.\n",
    "strings = [\"apple\", \"banana\", \"orange\", \"kiwi\", \"grape\"]\n",
    "\n",
    "sorted_strings = sorted(strings, key=lambda x: len(x))\n",
    "\n",
    "print(sorted_strings)"
   ]
  },
  {
   "cell_type": "code",
   "execution_count": null,
   "id": "8f1e659e",
   "metadata": {},
   "outputs": [],
   "source": [
    "10. Create a lambda function that takes two lists as input and returns a new list containing the common elements between \n",
    "    the two lists."
   ]
  },
  {
   "cell_type": "code",
   "execution_count": 7,
   "id": "2305b263",
   "metadata": {},
   "outputs": [
    {
     "name": "stdout",
     "output_type": "stream",
     "text": [
      "[4, 5]\n"
     ]
    }
   ],
   "source": [
    "#A.\n",
    "list1 = [1, 2, 3, 4, 5]\n",
    "list2 = [4, 5, 6, 7, 8]\n",
    "\n",
    "common_elements = list(filter(lambda x: x in list2, list1))\n",
    "\n",
    "print(common_elements)"
   ]
  },
  {
   "cell_type": "code",
   "execution_count": null,
   "id": "6fa79e16",
   "metadata": {},
   "outputs": [],
   "source": [
    "11. Write a recursive function to calculate the factorial of a given positive integer"
   ]
  },
  {
   "cell_type": "code",
   "execution_count": 11,
   "id": "468c6058",
   "metadata": {},
   "outputs": [
    {
     "name": "stdout",
     "output_type": "stream",
     "text": [
      "24\n"
     ]
    }
   ],
   "source": [
    "#A.\n",
    "def factorial(n):\n",
    "    if n == 0:\n",
    "        return 1\n",
    "    else:\n",
    "        return n * factorial(n - 1)\n",
    "\n",
    "result = factorial(4)\n",
    "print(result)"
   ]
  },
  {
   "cell_type": "code",
   "execution_count": null,
   "id": "00eb9589",
   "metadata": {},
   "outputs": [],
   "source": [
    "12. Implement a recursive function to compute the nth Fibonacci number."
   ]
  },
  {
   "cell_type": "code",
   "execution_count": null,
   "id": "6fbe3905",
   "metadata": {},
   "outputs": [],
   "source": [
    "#A.\n",
    "def fibonacci(n):\n",
    "    if n <= 1:\n",
    "        return n\n",
    "    else:\n",
    "        return fibonacci(n - 1) + fibonacci(n - 2)\n",
    "\n",
    "result = fibonacci(6)\n",
    "print(result)"
   ]
  },
  {
   "cell_type": "code",
   "execution_count": null,
   "id": "9ca0e222",
   "metadata": {},
   "outputs": [],
   "source": [
    "The base cases of the recursion are when n is 0 or 1. In these cases, the Fibonacci number is equal to the position itself,\n",
    "so we return n.\n",
    "\n",
    "For values of n greater than 1, we recursively call the fibonacci function with the arguments n - 1 and n - 2 and sum the \n",
    "results. This step continues until we reach the base cases.\n",
    "\n",
    "When the base cases are reached, the function starts unwinding the recursive calls and calculates the Fibonacci number \n",
    "step by step."
   ]
  },
  {
   "cell_type": "code",
   "execution_count": null,
   "id": "f13a93ac",
   "metadata": {},
   "outputs": [],
   "source": [
    "13. Create a recursive function to find the sum of all the elements in a given list"
   ]
  },
  {
   "cell_type": "code",
   "execution_count": 15,
   "id": "70c64ae5",
   "metadata": {},
   "outputs": [
    {
     "name": "stdout",
     "output_type": "stream",
     "text": [
      "21\n"
     ]
    }
   ],
   "source": [
    "#A.\n",
    "def list_sum(lst):\n",
    "    if not lst:\n",
    "        return 0\n",
    "    else:\n",
    "        return lst[0] + list_sum(lst[1:])\n",
    "\n",
    "numbers = [1, 2, 3, 4, 5, 6,]\n",
    "\n",
    "result = list_sum(numbers)\n",
    "print(result)"
   ]
  },
  {
   "cell_type": "code",
   "execution_count": null,
   "id": "c3f995c4",
   "metadata": {},
   "outputs": [],
   "source": [
    "14. Write a recursive function to determine whether a given string is a palindrome."
   ]
  },
  {
   "cell_type": "code",
   "execution_count": null,
   "id": "08535d5e",
   "metadata": {},
   "outputs": [],
   "source": [
    "A. A palindrome is a word, phrase, number, or other sequence of characters that reads the same forward and backward.\n",
    "    In Python, the recursive function to check for a palindrome can be implemented as follows:"
   ]
  },
  {
   "cell_type": "code",
   "execution_count": 1,
   "id": "2dcefa15",
   "metadata": {},
   "outputs": [],
   "source": [
    "def is_palindrome(s):                       # Base case: if the string has one character or is empty, it's a palindrome\n",
    "    if len(s) <= 1:\n",
    "        return True                         # Recursive case: check the first and last characters\n",
    "    if s[0] == s[-1]:                       # If the first and last characters match, check the substring between them\n",
    "        return is_palindrome(s[1:-1])\n",
    "    else:                                   # If the first and last characters don't match, it's not a palindrome\n",
    "        return False"
   ]
  },
  {
   "cell_type": "code",
   "execution_count": 2,
   "id": "b1964175",
   "metadata": {},
   "outputs": [
    {
     "name": "stdout",
     "output_type": "stream",
     "text": [
      "True\n",
      "False\n",
      "True\n"
     ]
    }
   ],
   "source": [
    "print(is_palindrome(\"racecar\"))   \n",
    "print(is_palindrome(\"hello\"))    \n",
    "print(is_palindrome(\"madam\")) "
   ]
  },
  {
   "cell_type": "code",
   "execution_count": null,
   "id": "b0bbd51d",
   "metadata": {},
   "outputs": [],
   "source": [
    "The function works by comparing the first and last characters of the string. If they are the same, it removes them and\n",
    "calls itself recursively with the substring between them. This process continues until the base case is reached, and the\n",
    "function returns True if the string is a palindrome, or False if its not."
   ]
  },
  {
   "cell_type": "code",
   "execution_count": null,
   "id": "170523ed",
   "metadata": {},
   "outputs": [],
   "source": [
    "15. Implement a recursive function to find the greatest common divisor (GCD) of two positive integers."
   ]
  },
  {
   "cell_type": "code",
   "execution_count": null,
   "id": "e3301f29",
   "metadata": {},
   "outputs": [],
   "source": [
    "A. The GCD of two numbers is the largest positive integer that divides both numbers without leaving a remainder.\n",
    "    The recursive function to find the GCD can be implemented using the Euclidean algorithm as follows:"
   ]
  },
  {
   "cell_type": "code",
   "execution_count": 5,
   "id": "78b7aedf",
   "metadata": {},
   "outputs": [],
   "source": [
    "def gcd(a, b):                        # Base case: if b is zero, the GCD is a (a is the greatest common divisor of a and 0)\n",
    "    if b == 0:\n",
    "        return a\n",
    "                                      # Recursive case: find the GCD of b and the remainder of a divided by b\n",
    "    return gcd(b, a % b)"
   ]
  },
  {
   "cell_type": "code",
   "execution_count": 6,
   "id": "0740f5f9",
   "metadata": {},
   "outputs": [
    {
     "name": "stdout",
     "output_type": "stream",
     "text": [
      "6\n",
      "12\n",
      "12\n"
     ]
    }
   ],
   "source": [
    "print(gcd(48, 18))    \n",
    "print(gcd(60, 48))    \n",
    "print(gcd(84, 36))    "
   ]
  }
 ],
 "metadata": {
  "kernelspec": {
   "display_name": "Python 3 (ipykernel)",
   "language": "python",
   "name": "python3"
  },
  "language_info": {
   "codemirror_mode": {
    "name": "ipython",
    "version": 3
   },
   "file_extension": ".py",
   "mimetype": "text/x-python",
   "name": "python",
   "nbconvert_exporter": "python",
   "pygments_lexer": "ipython3",
   "version": "3.10.9"
  }
 },
 "nbformat": 4,
 "nbformat_minor": 5
}
