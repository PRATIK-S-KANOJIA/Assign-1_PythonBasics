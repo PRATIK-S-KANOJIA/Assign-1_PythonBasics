{
 "cells": [
  {
   "cell_type": "code",
   "execution_count": null,
   "id": "d15a4dc5",
   "metadata": {},
   "outputs": [],
   "source": [
    "1. What exactly is []?"
   ]
  },
  {
   "cell_type": "code",
   "execution_count": null,
   "id": "37ac26fe",
   "metadata": {},
   "outputs": [],
   "source": [
    "A. There is no value present in the list as it is an empty list. It is denoted by []."
   ]
  },
  {
   "cell_type": "code",
   "execution_count": null,
   "id": "0cc8fdd7",
   "metadata": {},
   "outputs": [],
   "source": [
    "2. In a list of values stored in a variable called spam, how would you assign the value 'hello' as the third value?\n",
    "    (Assume [2, 4, 6, 8, 10] are in spam.)\n",
    "    Let's pretend the spam includes the list ['a', 'b', 'c', 'd'] for the next three queries."
   ]
  },
  {
   "cell_type": "code",
   "execution_count": null,
   "id": "6790d199",
   "metadata": {},
   "outputs": [],
   "source": [
    "A. To import \"hello\" as the third value i.e. at the place of 6 which is at 2nd indices, the code is given below:"
   ]
  },
  {
   "cell_type": "code",
   "execution_count": 22,
   "id": "a2b7c312",
   "metadata": {},
   "outputs": [
    {
     "data": {
      "text/plain": [
       "[2, 4, 'hello', 8, 10]"
      ]
     },
     "execution_count": 22,
     "metadata": {},
     "output_type": "execute_result"
    }
   ],
   "source": [
    "spam = [2,4,6,8,10]       #ItActuallyReplacesTheIndexValWithTheValueToBeImported\n",
    "spam[2] = \"hello\"\n",
    "spam"
   ]
  },
  {
   "cell_type": "code",
   "execution_count": null,
   "id": "76d9d049",
   "metadata": {},
   "outputs": [],
   "source": [
    "3. What is the value of spam[int(int('3' * 2) / 11)]?"
   ]
  },
  {
   "cell_type": "code",
   "execution_count": 6,
   "id": "0a0a040f",
   "metadata": {},
   "outputs": [
    {
     "data": {
      "text/plain": [
       "'d'"
      ]
     },
     "execution_count": 6,
     "metadata": {},
     "output_type": "execute_result"
    }
   ],
   "source": [
    "#A.\n",
    "spam = [\"a\",\"b\",\"c\",\"d\"]\n",
    "spam[int(int('3' * 2) / 11)]"
   ]
  },
  {
   "cell_type": "code",
   "execution_count": null,
   "id": "63f34c8a",
   "metadata": {},
   "outputs": [],
   "source": [
    "4. What is the value of spam[-1]?"
   ]
  },
  {
   "cell_type": "code",
   "execution_count": 7,
   "id": "85370b90",
   "metadata": {},
   "outputs": [
    {
     "data": {
      "text/plain": [
       "'d'"
      ]
     },
     "execution_count": 7,
     "metadata": {},
     "output_type": "execute_result"
    }
   ],
   "source": [
    "#A.\n",
    "spam[-1]"
   ]
  },
  {
   "cell_type": "code",
   "execution_count": null,
   "id": "f1ba9c5f",
   "metadata": {},
   "outputs": [],
   "source": [
    "5. What is the value of spam[:2]?"
   ]
  },
  {
   "cell_type": "code",
   "execution_count": 8,
   "id": "66896a1a",
   "metadata": {},
   "outputs": [
    {
     "data": {
      "text/plain": [
       "['a', 'b']"
      ]
     },
     "execution_count": 8,
     "metadata": {},
     "output_type": "execute_result"
    }
   ],
   "source": [
    "#A.\n",
    "spam[:2]       #ItsSameAs[0:2]Where0isLowerLimit&2IsUpperLimit  #ALsoItShowsResultExcludingTheUpperLimit"
   ]
  },
  {
   "cell_type": "code",
   "execution_count": null,
   "id": "39bad4d0",
   "metadata": {},
   "outputs": [],
   "source": [
    "Let's pretend bacon has the list [3.14, 'cat,' 11, 'cat,' True] for the next three questions.\n",
    "\n",
    "6. What is the value of bacon.index('cat')?"
   ]
  },
  {
   "cell_type": "code",
   "execution_count": 11,
   "id": "b54bfdee",
   "metadata": {},
   "outputs": [
    {
     "data": {
      "text/plain": [
       "1"
      ]
     },
     "execution_count": 11,
     "metadata": {},
     "output_type": "execute_result"
    }
   ],
   "source": [
    "#A. \n",
    "bacon = [3.14, 'cat', 11,'cat',True]     \n",
    "bacon.index('cat')                         #AsIndexesStartsFrom0&CatIsPresentAt1Index"
   ]
  },
  {
   "cell_type": "code",
   "execution_count": null,
   "id": "67a49e54",
   "metadata": {},
   "outputs": [],
   "source": [
    "7. How does bacon.append(99) change the look of the list value in bacon?"
   ]
  },
  {
   "cell_type": "code",
   "execution_count": 24,
   "id": "bad67f63",
   "metadata": {},
   "outputs": [],
   "source": [
    "#A. \n",
    "bacon.append(99)     #AppendAddsTheValueAtTheEndOfTheList"
   ]
  },
  {
   "cell_type": "code",
   "execution_count": 25,
   "id": "540033de",
   "metadata": {},
   "outputs": [
    {
     "data": {
      "text/plain": [
       "[3.14, 'cat', 11, 'cat', True, 99]"
      ]
     },
     "execution_count": 25,
     "metadata": {},
     "output_type": "execute_result"
    }
   ],
   "source": [
    "bacon"
   ]
  },
  {
   "cell_type": "code",
   "execution_count": null,
   "id": "6dc460ef",
   "metadata": {},
   "outputs": [],
   "source": [
    "8. How does bacon.remove('cat') change the look of the list in bacon?"
   ]
  },
  {
   "cell_type": "code",
   "execution_count": 26,
   "id": "e7ac2bb4",
   "metadata": {},
   "outputs": [],
   "source": [
    "#A.\n",
    "bacon.remove('cat')  #ItActuallyRemovesTheFirstOccurenceOfThisValue(cat)"
   ]
  },
  {
   "cell_type": "code",
   "execution_count": 27,
   "id": "b179c104",
   "metadata": {},
   "outputs": [
    {
     "data": {
      "text/plain": [
       "[3.14, 11, 'cat', True, 99]"
      ]
     },
     "execution_count": 27,
     "metadata": {},
     "output_type": "execute_result"
    }
   ],
   "source": [
    "bacon"
   ]
  },
  {
   "cell_type": "code",
   "execution_count": null,
   "id": "126a7b79",
   "metadata": {},
   "outputs": [],
   "source": [
    "9. What are the list concatenation and list replication operators?"
   ]
  },
  {
   "cell_type": "code",
   "execution_count": null,
   "id": "90bcb955",
   "metadata": {},
   "outputs": [],
   "source": [
    "A. List Concatenation is used to add another list or string with the help of concatenation operator (+).\n",
    "    List Replication is used to replicate or repeats the value in list or string with the help of replication operator (*)."
   ]
  },
  {
   "cell_type": "code",
   "execution_count": null,
   "id": "a7801056",
   "metadata": {},
   "outputs": [],
   "source": [
    "10. What is difference between the list methods append() and insert()?"
   ]
  },
  {
   "cell_type": "code",
   "execution_count": null,
   "id": "f0e59cb9",
   "metadata": {},
   "outputs": [],
   "source": [
    "A. append() is used to add value at the last indexes whereas insert() facilitates to add value at desired or specific\n",
    "    indexes. Ex.are given below:"
   ]
  },
  {
   "cell_type": "code",
   "execution_count": 28,
   "id": "6069a7e8",
   "metadata": {},
   "outputs": [
    {
     "data": {
      "text/plain": [
       "[1, 2, 3, 4, 5, 6, 'Seven']"
      ]
     },
     "execution_count": 28,
     "metadata": {},
     "output_type": "execute_result"
    }
   ],
   "source": [
    "Alpha = [1,2,3,4,5,6]\n",
    "Alpha.append(\"Seven\")     #AddsValueAtTheLastIndex      #Variable.append(Value)\n",
    "Alpha"
   ]
  },
  {
   "cell_type": "code",
   "execution_count": 31,
   "id": "41491c70",
   "metadata": {},
   "outputs": [
    {
     "data": {
      "text/plain": [
       "[1, 2, 3, 'Four', 4, 5, 6, 'Seven']"
      ]
     },
     "execution_count": 31,
     "metadata": {},
     "output_type": "execute_result"
    }
   ],
   "source": [
    "Alpha.insert(3,\"Four\")    #AddsValueAtTheMentionedIndex  #Variable.insert(IndexNo.,Value)\n",
    "Alpha"
   ]
  },
  {
   "cell_type": "code",
   "execution_count": null,
   "id": "f7dc15b5",
   "metadata": {},
   "outputs": [],
   "source": [
    "11. What are the two methods for removing items from a list?"
   ]
  },
  {
   "cell_type": "code",
   "execution_count": null,
   "id": "204d8b7c",
   "metadata": {},
   "outputs": [],
   "source": [
    "A. pop() & remove() are the two methods for removing items in a list."
   ]
  },
  {
   "cell_type": "code",
   "execution_count": 39,
   "id": "41dd8cd3",
   "metadata": {},
   "outputs": [
    {
     "data": {
      "text/plain": [
       "[1, 2, 3, 'Four', 4, 5, 6]"
      ]
     },
     "execution_count": 39,
     "metadata": {},
     "output_type": "execute_result"
    }
   ],
   "source": [
    "Alpha.pop()              #RemovesValueFromTheLastIndexes\n",
    "Alpha"
   ]
  },
  {
   "cell_type": "code",
   "execution_count": 40,
   "id": "6a0700e3",
   "metadata": {},
   "outputs": [
    {
     "data": {
      "text/plain": [
       "[1, 2, 3, 4, 5, 6]"
      ]
     },
     "execution_count": 40,
     "metadata": {},
     "output_type": "execute_result"
    }
   ],
   "source": [
    "Alpha.remove(\"Four\")     #RemovesSpecificValueAsMentioned\n",
    "Alpha"
   ]
  },
  {
   "cell_type": "code",
   "execution_count": null,
   "id": "0ada19a1",
   "metadata": {},
   "outputs": [],
   "source": [
    "12. Describe how list values and string values are identical."
   ]
  },
  {
   "cell_type": "code",
   "execution_count": null,
   "id": "7fd46a2b",
   "metadata": {},
   "outputs": [],
   "source": [
    "A. Both strings and lists have lengths: a strings length is the number of characters in the string; a lists length \n",
    "    is the number of items in the list. Each character in a string as well as each item in a list has a position,\n",
    "    also called an index. Thats why both indexing & slicing operation is possible.\n",
    "    Conatination & Replication operation is also possible in list & string as well as it is used in loops also."
   ]
  },
  {
   "cell_type": "code",
   "execution_count": null,
   "id": "27f5f0dd",
   "metadata": {},
   "outputs": [],
   "source": [
    "13. Whats the difference between tuples and lists?"
   ]
  },
  {
   "cell_type": "code",
   "execution_count": null,
   "id": "7aff92f4",
   "metadata": {},
   "outputs": [],
   "source": [
    "A. Tuples are immutable means they can not be modified or changed once defined. They are denoted by ()."
   ]
  },
  {
   "cell_type": "code",
   "execution_count": 42,
   "id": "3833937d",
   "metadata": {},
   "outputs": [
    {
     "data": {
      "text/plain": [
       "tuple"
      ]
     },
     "execution_count": 42,
     "metadata": {},
     "output_type": "execute_result"
    }
   ],
   "source": [
    "t = (1,2,\"Three\",4.4,True)\n",
    "type(t)"
   ]
  },
  {
   "cell_type": "code",
   "execution_count": null,
   "id": "ffe59a37",
   "metadata": {},
   "outputs": [],
   "source": [
    "Lists are mutable means values can be easily modified or changed, added ,or removed. They are denoted by []."
   ]
  },
  {
   "cell_type": "code",
   "execution_count": 43,
   "id": "22566361",
   "metadata": {},
   "outputs": [
    {
     "data": {
      "text/plain": [
       "list"
      ]
     },
     "execution_count": 43,
     "metadata": {},
     "output_type": "execute_result"
    }
   ],
   "source": [
    "l = [1,\"Two\",3,4,False,5.2]\n",
    "type(l)"
   ]
  },
  {
   "cell_type": "code",
   "execution_count": null,
   "id": "69e0ddb9",
   "metadata": {},
   "outputs": [],
   "source": [
    "14. How do you type a tuple value that only contains the integer 42?"
   ]
  },
  {
   "cell_type": "code",
   "execution_count": 52,
   "id": "e2fd631b",
   "metadata": {},
   "outputs": [
    {
     "data": {
      "text/plain": [
       "tuple"
      ]
     },
     "execution_count": 52,
     "metadata": {},
     "output_type": "execute_result"
    }
   ],
   "source": [
    "#A.\n",
    "tup = (42,)          \n",
    "type(tup)"
   ]
  },
  {
   "cell_type": "code",
   "execution_count": null,
   "id": "b5460023",
   "metadata": {},
   "outputs": [],
   "source": [
    "15. How do you get a list values tuple form? How do you get a tuple values list form?"
   ]
  },
  {
   "cell_type": "code",
   "execution_count": 13,
   "id": "79d98a29",
   "metadata": {},
   "outputs": [
    {
     "name": "stdout",
     "output_type": "stream",
     "text": [
      "['a', 's', 3, 4.42, True]\n"
     ]
    },
    {
     "data": {
      "text/plain": [
       "list"
      ]
     },
     "execution_count": 13,
     "metadata": {},
     "output_type": "execute_result"
    }
   ],
   "source": [
    "#A. \n",
    "l = [\"a\",\"s\",3,4.42,True]       #ListWithValues\n",
    "print(l)\n",
    "type(l)"
   ]
  },
  {
   "cell_type": "code",
   "execution_count": 14,
   "id": "e5b77262",
   "metadata": {},
   "outputs": [
    {
     "name": "stdout",
     "output_type": "stream",
     "text": [
      "('a', 's', 3, 4.42, True)\n"
     ]
    },
    {
     "data": {
      "text/plain": [
       "tuple"
      ]
     },
     "execution_count": 14,
     "metadata": {},
     "output_type": "execute_result"
    }
   ],
   "source": [
    "t = tuple(l)                   #TurningListIntoTupleForm\n",
    "print(t)\n",
    "type(t)\n"
   ]
  },
  {
   "cell_type": "code",
   "execution_count": 16,
   "id": "d71fc981",
   "metadata": {},
   "outputs": [
    {
     "name": "stdout",
     "output_type": "stream",
     "text": [
      "['a', 's', 3, 4.42, True]\n"
     ]
    },
    {
     "data": {
      "text/plain": [
       "list"
      ]
     },
     "execution_count": 16,
     "metadata": {},
     "output_type": "execute_result"
    }
   ],
   "source": [
    "l = list(t)                    #AgainTurningBackTupleToListForm\n",
    "print(l)\n",
    "type(l)"
   ]
  },
  {
   "cell_type": "code",
   "execution_count": null,
   "id": "52651acf",
   "metadata": {},
   "outputs": [],
   "source": [
    "16. Variables that \"contain\" list values are not necessarily lists themselves. Instead, what do they contain?"
   ]
  },
  {
   "cell_type": "code",
   "execution_count": null,
   "id": "c95fe1d5",
   "metadata": {},
   "outputs": [],
   "source": [
    "A. Variables will contain references to list values rather than list values themselves."
   ]
  },
  {
   "cell_type": "code",
   "execution_count": null,
   "id": "5c78d1f0",
   "metadata": {},
   "outputs": [],
   "source": [
    "17. How do you distinguish between copy.copy() and copy.deepcopy()?"
   ]
  },
  {
   "cell_type": "code",
   "execution_count": null,
   "id": "51f2d169",
   "metadata": {},
   "outputs": [],
   "source": [
    "A. The copy() returns a shallow copy of the list, and deepcopy() returns a deep copy of the list."
   ]
  }
 ],
 "metadata": {
  "kernelspec": {
   "display_name": "Python 3 (ipykernel)",
   "language": "python",
   "name": "python3"
  },
  "language_info": {
   "codemirror_mode": {
    "name": "ipython",
    "version": 3
   },
   "file_extension": ".py",
   "mimetype": "text/x-python",
   "name": "python",
   "nbconvert_exporter": "python",
   "pygments_lexer": "ipython3",
   "version": "3.10.9"
  }
 },
 "nbformat": 4,
 "nbformat_minor": 5
}
