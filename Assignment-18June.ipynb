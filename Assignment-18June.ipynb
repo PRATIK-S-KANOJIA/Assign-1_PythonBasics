{
 "cells": [
  {
   "cell_type": "code",
   "execution_count": null,
   "id": "4d61c78c",
   "metadata": {},
   "outputs": [],
   "source": [
    "1. What is the role of the 'else' block in a try-except statement? Provide an example scenario where it would be useful."
   ]
  },
  {
   "cell_type": "code",
   "execution_count": null,
   "id": "7cd3c2a7",
   "metadata": {},
   "outputs": [],
   "source": [
    "A. In a try-except statement, the 'else' block is optional and serves as a way to define a set of statements that will be\n",
    "    executed if no exception is raised within the 'try' block. This allows you to specify code that should run when the \n",
    "    'try' block executes successfully without encountering any exceptions.\n",
    "\n",
    "The basic structure of a try-except-else statement looks like this:\n",
    "    try:\n",
    "    # Code that may raise an exception\n",
    "    except SomeException:\n",
    "    # Code to handle the exception\n",
    "    else:\n",
    "    # Code to be executed if no exception occurs in the 'try' block"
   ]
  },
  {
   "cell_type": "code",
   "execution_count": null,
   "id": "a62e2eed",
   "metadata": {},
   "outputs": [],
   "source": [
    "#Ex:\n",
    "def read_and_calculate(filename):\n",
    "    try:\n",
    "        with open(filename, 'r') as file:\n",
    "            data = file.read()\n",
    "            # Perform some calculations on the data\n",
    "            result = some_calculation(data)\n",
    "    except FileNotFoundError:\n",
    "        print(f\"File '{filename}' not found.\")\n",
    "    except IOError:\n",
    "        print(f\"Error reading the file '{filename}'.\")\n",
    "    else:\n",
    "        print(\"Calculation successful.\")\n",
    "        print(\"Result:\", result)"
   ]
  },
  {
   "cell_type": "code",
   "execution_count": null,
   "id": "250a86f4",
   "metadata": {},
   "outputs": [],
   "source": [
    "In this example, if the file is not found or there is an error reading it, the appropriate exception will be caught and a\n",
    "    relevant message will be printed. However, if the file is successfully read and the calculations are performed without\n",
    "    any issues, the 'else' block will be executed, printing a success message and displaying the result of the calculations.\n",
    "\n",
    "By using the 'else' block in this way, you can handle exceptional cases and provide feedback to the user while still \n",
    "    ensuring that your program continues to run smoothly when there are no exceptions."
   ]
  },
  {
   "cell_type": "code",
   "execution_count": null,
   "id": "65d0449a",
   "metadata": {},
   "outputs": [],
   "source": [
    "2. Can a try-except block be nested inside another try-except block? Explain with an example."
   ]
  },
  {
   "cell_type": "code",
   "execution_count": null,
   "id": "d1e421b8",
   "metadata": {},
   "outputs": [],
   "source": [
    "A. Yes, a try-except block can be nested inside another try-except block. This is known as nested exception handling. \n",
    "    It allows you to handle exceptions at different levels of code execution, providing more fine-grained control over \n",
    "    error handling.\n",
    "    Here is an example to illustrate nested exception handling:"
   ]
  },
  {
   "cell_type": "code",
   "execution_count": 1,
   "id": "808900d3",
   "metadata": {},
   "outputs": [
    {
     "name": "stdout",
     "output_type": "stream",
     "text": [
      "File 'data.txt' not found.\n"
     ]
    }
   ],
   "source": [
    "def divide_numbers(a, b):\n",
    "    try:\n",
    "        result = a / b\n",
    "    except ZeroDivisionError:\n",
    "        print(\"Error: Cannot divide by zero.\")\n",
    "        result = None\n",
    "    else:\n",
    "        print(f\"The result of the division is: {result}\")\n",
    "    return result\n",
    "\n",
    "def process_data(filename):\n",
    "    try:\n",
    "        with open(filename, 'r') as file:\n",
    "            data = file.read()\n",
    "            numbers = [int(x) for x in data.split()]\n",
    "            a = numbers[0]\n",
    "            b = numbers[1]\n",
    "            result = divide_numbers(a, b)\n",
    "    except FileNotFoundError:\n",
    "        print(f\"File '{filename}' not found.\")\n",
    "        result = None\n",
    "    except ValueError:\n",
    "        print(\"Error: Invalid data in the file.\")\n",
    "        result = None\n",
    "    else:\n",
    "        print(\"Data processed successfully.\")\n",
    "    return result\n",
    "\n",
    "filename = \"data.txt\"\n",
    "result = process_data(filename)"
   ]
  },
  {
   "cell_type": "code",
   "execution_count": null,
   "id": "e664efb2",
   "metadata": {},
   "outputs": [],
   "source": [
    "In this example, there are two functions: divide_numbers(a, b) and process_data(filename). The divide_numbers function\n",
    "    takes two numbers, a and b, and tries to perform the division. If b is zero, it raises a ZeroDivisionError, which is\n",
    "    caught within its own try-except block. If division is successful, it prints the result. The function returns the result.\n",
    "\n",
    "The process_data function reads data from a file specified by filename. It then converts the data to two integers (a and b)\n",
    "    and attempts to divide them using the divide_numbers function. If there is an issue with file handling \n",
    "    (FileNotFoundError) or the data in the file cannot be converted to integers (ValueError), the respective exceptions are\n",
    "    caught within their try-except blocks.\n",
    "\n",
    "Now, if the file is found, read successfully, and the data is valid, divide_numbers may still raise a ZeroDivisionError if\n",
    "    b is zero. This exception will be caught by the inner try-except block in divide_numbers, and the appropriate message\n",
    "    will be displayed.\n",
    "\n",
    "By using nested try-except blocks, you can handle exceptions at different levels of your programs execution, ensuring that \n",
    "    issues are properly addressed while allowing the program to continue running if possible."
   ]
  },
  {
   "cell_type": "code",
   "execution_count": null,
   "id": "0b063c7d",
   "metadata": {},
   "outputs": [],
   "source": [
    "3. How can you create a custom exception class in Python? Provide an example that demonstrates its usage."
   ]
  },
  {
   "cell_type": "code",
   "execution_count": null,
   "id": "3711f956",
   "metadata": {},
   "outputs": [],
   "source": [
    "A. In Python, you can create a custom exception class by defining a new class that inherits from the built-in Exception \n",
    "    class or one of its subclasses. By doing so, you can create specific exception types tailored to your applications \n",
    "    needs, allowing you to catch and handle them differently from standard Python exceptions.\n",
    "\n",
    "Heres an example of how to create and use a custom exception class:"
   ]
  },
  {
   "cell_type": "code",
   "execution_count": 6,
   "id": "efbf8ef1",
   "metadata": {},
   "outputs": [
    {
     "name": "stdout",
     "output_type": "stream",
     "text": [
      "Enter a non-negative number: 36\n",
      "The square root of 36.0 is 6.00.\n"
     ]
    }
   ],
   "source": [
    "class InvalidInputError(Exception):                                         # Custom exception class\n",
    "    def __init__(self, message):\n",
    "        self.message = message\n",
    "        super().__init__(message)\n",
    "        \n",
    "def calculate_square_root(num):                                             # Function that raises the custom exception\n",
    "    if num < 0:\n",
    "        raise InvalidInputError(\"Input must be a non-negative number.\")\n",
    "    return num ** 0.5\n",
    "\n",
    "try:                                                                        # Example\n",
    "    number = float(input(\"Enter a non-negative number: \"))\n",
    "    result = calculate_square_root(number)\n",
    "    print(f\"The square root of {number} is {result:.2f}.\")\n",
    "except InvalidInputError as e:\n",
    "    print(f\"Error: {e}\")\n",
    "except ValueError:\n",
    "    print(\"Error: Invalid input. Please enter a valid number.\")"
   ]
  },
  {
   "cell_type": "code",
   "execution_count": null,
   "id": "2adb511f",
   "metadata": {},
   "outputs": [],
   "source": [
    "In this example, we create a custom exception class called InvalidInputError, which inherits from the built-in Exception\n",
    "class. The custom exception has an __init__ method that takes a message as an argument and stores it in an instance variable\n",
    "called message. The super().__init__(message) call ensures that the base class Exception is properly initialized with the\n",
    "given message.\n",
    "\n",
    "The calculate_square_root function calculates the square root of a number passed as an argument. If the input number is \n",
    "negative, it raises the InvalidInputError with a specific message.\n",
    "\n",
    "In the example usage, the program prompts the user to enter a non-negative number. If the user provides a negative number,\n",
    "the custom InvalidInputError exception is raised and caught in the first except block, displaying the error message. If the\n",
    "user provides invalid input (e.g., non-numeric input), a standard ValueError is caught in the second except block,\n",
    "displaying a different error message.\n",
    "\n",
    "By using custom exception classes, you can make your code more expressive and provide better error handling and debugging\n",
    "capabilities for specific situations in your application."
   ]
  },
  {
   "cell_type": "code",
   "execution_count": null,
   "id": "f366e7b9",
   "metadata": {},
   "outputs": [],
   "source": [
    "4. What are some common exceptions that are built-in to Python?"
   ]
  },
  {
   "cell_type": "code",
   "execution_count": null,
   "id": "7a5b47c8",
   "metadata": {},
   "outputs": [],
   "source": [
    "A.Some of the common built-in exceptions in Python include:\n",
    "    1.SyntaxError: Raised when there is a syntax error in the code.\n",
    "    2.IndentationError: Raised when there is an incorrect indentation in the code.\n",
    "    3.NameError: Raised when a variable or name is not found in the local or global scope.\n",
    "    4.TypeError: Raised when an operation or function is applied to an object of an inappropriate type.\n",
    "    5.ValueError: Raised when a function receives an argument of the correct type but an inappropriate value.\n",
    "    6.ZeroDivisionError: Raised when attempting to divide by zero.\n",
    "    7.IndexError: Raised when trying to access an index that is out of range for a sequence (e.g., list, string).\n",
    "    8.KeyError: Raised when trying to access a non-existent key in a dictionary.\n",
    "    9.FileNotFoundError: Raised when trying to open or access a file that doesn't exist.\n",
    "    10.IOError: Raised when there is an input/output error.\n",
    "    11.ImportError: Raised when importing a module or using an import statement fails.\n",
    "    12.AttributeError: Raised when an attribute reference or assignment fails.\n",
    "    13.StopIteration: Raised to signal the end of an iterator (used with next() function and loops).\n",
    "    14.KeyboardInterrupt: Raised when the user interrupts the program (e.g., pressing Ctrl+C).\n",
    "\n",
    "    These are just a few examples of the many built-in exceptions available in Python. Each exception serves a specific \n",
    "    purpose and can help you identify and handle different types of errors in your code. When writing error-handling code,\n",
    "    its essential to use appropriate exception handling and provide helpful error messages to make debugging and\n",
    "    troubleshooting easier."
   ]
  },
  {
   "cell_type": "code",
   "execution_count": null,
   "id": "57016b15",
   "metadata": {},
   "outputs": [],
   "source": [
    "5. What is logging in Python, and why is it important in software development?"
   ]
  },
  {
   "cell_type": "code",
   "execution_count": null,
   "id": "c24832cc",
   "metadata": {},
   "outputs": [],
   "source": [
    "A. In Python, logging is a mechanism that allows you to record events, messages, and other relevant information during the\n",
    "    execution of a program. It provides a flexible and efficient way to track the flow of your application and helps in \n",
    "    diagnosing issues, monitoring performance, and gaining insights into the behavior of your software.\n",
    "\n",
    "The logging module in Python provides a built-in logging system that offers various logging levels (e.g., DEBUG, INFO,\n",
    "    WARNING, ERROR, CRITICAL) to categorize the severity of the messages. Developers can use different log levels to \n",
    "    indicate the importance of the logged information, allowing them to control what gets recorded based on the runtime\n",
    "    environment (e.g., development, testing, production).\n",
    "\n",
    "Importance of logging in software development:\n",
    "\n",
    "Debugging and Troubleshooting: During development and testing, logging can be invaluable for tracing the flow of execution,\n",
    "    identifying errors, and diagnosing issues. It helps you understand what happened leading up to a problem, making it\n",
    "    easier to find and fix bugs.\n",
    "\n",
    "Monitoring and Performance Analysis: In production environments, logging enables real-time monitoring of the application.\n",
    "    It allows you to track important metrics, analyze performance, and identify potential bottlenecks or areas for \n",
    "    improvement.\n",
    "\n",
    "Error and Exception Tracking: When an error or exception occurs, logging can capture relevant information, such as stack\n",
    "    traces, input values, or system states. This aids in identifying the root cause and implementing appropriate fixes.\n",
    "\n",
    "Security Auditing: For security-sensitive applications, logging can be crucial for auditing and tracking suspicious\n",
    "    activities, such as unauthorized access attempts or potential security breaches.\n",
    "\n",
    "Documentation and History: Logs serve as a historical record of events and actions within the software. They provide \n",
    "    valuable insights into the evolution of the application and can be useful for documentation and understanding past \n",
    "    behavior.\n",
    "\n",
    "Selective Information Recording: With different log levels, you can control the verbosity of logging messages. This allows\n",
    "    you to log detailed information during development and testing but switch to a more concise log level in production to\n",
    "    reduce noise.\n",
    "\n",
    "Customization and Flexibility: The logging module in Python offers various customization options, such as defining custom \n",
    "    log formats, specifying log handlers (e.g., file, console, network), and integrating with third-party logging solutions.\n",
    "\n",
    "Overall, logging is an essential aspect of software development as it enhances the maintainability, reliability, and \n",
    "    performance of your applications. By utilizing logging effectively, developers can gain better visibility into their\n",
    "    codes behavior and make informed decisions for continuous improvement."
   ]
  },
  {
   "cell_type": "code",
   "execution_count": null,
   "id": "54a22978",
   "metadata": {},
   "outputs": [],
   "source": [
    "6. Explain the purpose of log levels in Python logging and provide examples of when each log level would be appropriate."
   ]
  },
  {
   "cell_type": "code",
   "execution_count": null,
   "id": "c41c0f86",
   "metadata": {},
   "outputs": [],
   "source": [
    "A. The purpose of log levels in Python logging is to categorize and prioritize the severity of logged messages. The logging\n",
    "    module provides several predefined log levels, each with a specific purpose, allowing developers to control which\n",
    "    messages are recorded and displayed based on the runtime environment and the importance of the information being logged.\n",
    "\n",
    "Here are the standard log levels provided by the logging module in ascending order of severity:\n",
    "\n",
    "a. DEBUG: The lowest log level, used for detailed information useful for debugging purposes. It provides the most verbose \n",
    "    output and is typically only enabled during development and testing phases."
   ]
  },
  {
   "cell_type": "code",
   "execution_count": 7,
   "id": "3e043de8",
   "metadata": {},
   "outputs": [
    {
     "name": "stderr",
     "output_type": "stream",
     "text": [
      "DEBUG:root:This is a debug message.\n"
     ]
    }
   ],
   "source": [
    "import logging\n",
    "\n",
    "logging.basicConfig(level=logging.DEBUG)\n",
    "\n",
    "def some_function():\n",
    "    logging.debug(\"This is a debug message.\")\n",
    "    # Other function code...\n",
    "\n",
    "some_function()"
   ]
  },
  {
   "cell_type": "code",
   "execution_count": null,
   "id": "8d3a02ba",
   "metadata": {},
   "outputs": [],
   "source": [
    "b. INFO: Used to convey general information about the applications execution. It is helpful for providing a high-level \n",
    "    overview of the programs flow."
   ]
  },
  {
   "cell_type": "code",
   "execution_count": 8,
   "id": "71993c4d",
   "metadata": {},
   "outputs": [
    {
     "name": "stderr",
     "output_type": "stream",
     "text": [
      "INFO:root:Starting the application.\n",
      "INFO:root:Application execution completed.\n"
     ]
    }
   ],
   "source": [
    "import logging\n",
    "\n",
    "logging.basicConfig(level=logging.INFO)\n",
    "\n",
    "def main():\n",
    "    logging.info(\"Starting the application.\")\n",
    "    # Other main function code...\n",
    "    logging.info(\"Application execution completed.\")\n",
    "\n",
    "main()"
   ]
  },
  {
   "cell_type": "code",
   "execution_count": null,
   "id": "75f29c4d",
   "metadata": {},
   "outputs": [],
   "source": [
    "c. WARNING: Indicates potential issues or situations that could cause problems but do not necessarily result in errors. \n",
    "    It is used to highlight noteworthy events that might require attention."
   ]
  },
  {
   "cell_type": "code",
   "execution_count": 9,
   "id": "f8ea1ae5",
   "metadata": {},
   "outputs": [
    {
     "name": "stderr",
     "output_type": "stream",
     "text": [
      "WARNING:root:Data size is small. Results may be inaccurate.\n"
     ]
    }
   ],
   "source": [
    "import logging\n",
    "\n",
    "logging.basicConfig(level=logging.WARNING)\n",
    "\n",
    "def process_data(data):\n",
    "    if len(data) < 5:\n",
    "        logging.warning(\"Data size is small. Results may be inaccurate.\")\n",
    "    # Data processing code...\n",
    "\n",
    "data = [1, 2, 3, 4]\n",
    "process_data(data)"
   ]
  },
  {
   "cell_type": "code",
   "execution_count": null,
   "id": "9bd31d32",
   "metadata": {},
   "outputs": [],
   "source": [
    "d. ERROR: Signifies errors that occur during the execution of the program but do not prevent it from continuing. It is \n",
    "    used to log issues that might need investigation but are recoverable."
   ]
  },
  {
   "cell_type": "code",
   "execution_count": 17,
   "id": "60e74a6f",
   "metadata": {},
   "outputs": [
    {
     "name": "stderr",
     "output_type": "stream",
     "text": [
      "ERROR:root:Division by zero occurred.\n"
     ]
    }
   ],
   "source": [
    "import logging\n",
    "\n",
    "logging.basicConfig(level=logging.ERROR)\n",
    "\n",
    "def divide_numbers(a, b):\n",
    "    try:\n",
    "        result = a / b\n",
    "    except ZeroDivisionError:\n",
    "        logging.error(\"Division by zero occurred.\")\n",
    "        result = None\n",
    "    return result\n",
    "\n",
    "result = divide_numbers(10, 0)"
   ]
  },
  {
   "cell_type": "code",
   "execution_count": null,
   "id": "716dc4d5",
   "metadata": {},
   "outputs": [],
   "source": [
    "e. CRITICAL: The highest log level, reserved for critical errors that may cause the program to terminate or lead to severe\n",
    "    consequences. It is used to log major failures that require immediate attention."
   ]
  },
  {
   "cell_type": "code",
   "execution_count": null,
   "id": "8d57b3f5",
   "metadata": {},
   "outputs": [],
   "source": [
    "import logging\n",
    "\n",
    "logging.basicConfig(level=logging.CRITICAL)\n",
    "\n",
    "def important_function():\n",
    "    # Some critical operations...\n",
    "    if critical_condition:\n",
    "        logging.critical(\"Critical condition encountered. Exiting program.\")\n",
    "        raise SystemExit\n",
    "\n",
    "important_function()"
   ]
  },
  {
   "cell_type": "code",
   "execution_count": null,
   "id": "5470e4c6",
   "metadata": {},
   "outputs": [],
   "source": [
    "7. What are log formatters in Python logging, and how can you customise the log message format using formatters?"
   ]
  },
  {
   "cell_type": "code",
   "execution_count": null,
   "id": "20f14f54",
   "metadata": {},
   "outputs": [],
   "source": [
    "A. In Python logging, log formatters are used to define the structure and content of the log messages. They determine how\n",
    "    the log records are formatted before being emitted by the log handlers (e.g., written to a file, printed to the console,\n",
    "    sent over the network). Log formatters allow you to control the appearance of log messages, including the timestamp, \n",
    "    log level, message, and other relevant information.\n",
    "\n",
    "The logging module provides a variety of built-in formatters, and you can also create custom formatters to suit your \n",
    "    specific needs.\n",
    "\n",
    "Heres an example of how to customize the log message format using formatters:"
   ]
  },
  {
   "cell_type": "code",
   "execution_count": null,
   "id": "7130c8e7",
   "metadata": {},
   "outputs": [],
   "source": [
    "import logging\n",
    "\n",
    "formatter = logging.Formatter('%(asctime)s - %(levelname)s - %(message)s')                   # Create a custom log formatter\n",
    "\n",
    "file_handler = logging.FileHandler('app.log')              # Create a log handler and associate the custom formatter with it\n",
    "file_handler.setFormatter(formatter)\n",
    "\n",
    "logger = logging.getLogger('my_app')                                      # Create the logger and add the file handler to it\n",
    "logger.setLevel(logging.DEBUG)\n",
    "logger.addHandler(file_handler)\n",
    "\n",
    "# Example usage of the logger\n",
    "def divide_numbers(a, b):\n",
    "    try:\n",
    "        result = a / b\n",
    "    except ZeroDivisionError:\n",
    "        logger.error(\"Division by zero occurred.\", exc_info=True)\n",
    "        result = None\n",
    "    return result\n",
    "\n",
    "logger.info(\"Starting the application.\")\n",
    "result = divide_numbers(10, 0)\n",
    "logger.info(\"Application execution completed.\")\n"
   ]
  },
  {
   "cell_type": "code",
   "execution_count": null,
   "id": "2bc2db6f",
   "metadata": {},
   "outputs": [],
   "source": [
    "In the example above, we create a custom log formatter using the Formatter class and define the desired log message format\n",
    "    by specifying the format string. The format string consists of placeholders enclosed in parentheses, starting with\n",
    "    %( and ending with ), which will be replaced with appropriate values from the log record.\n",
    "\n",
    "The placeholders used in the format string include:\n",
    "\n",
    "asctime: The timestamp when the log record was created.\n",
    "levelname: The log level of the message (e.g., DEBUG, INFO, ERROR).\n",
    "message: The actual log message."
   ]
  },
  {
   "cell_type": "code",
   "execution_count": null,
   "id": "42ee6d19",
   "metadata": {},
   "outputs": [],
   "source": [
    "8. How can you set up logging to capture log messages from multiple modules or classes in a Python application?"
   ]
  },
  {
   "cell_type": "code",
   "execution_count": null,
   "id": "fd40cf04",
   "metadata": {},
   "outputs": [],
   "source": [
    "A. To capture log messages from multiple modules or classes in a Python application, you can set up a centralized logging\n",
    "    configuration that is accessible from any module or class within your application. This ensures that all loggers share\n",
    "    the same configuration, making it easier to manage and control the logging behavior across different parts of the \n",
    "    application.\n",
    "\n",
    "Heres a step-by-step guide on how to set up logging for multiple modules or classes:\n",
    "    \n",
    "    a. Centralized Logging Configuration:\n",
    "Start by creating a centralized logging configuration in a dedicated module, such as logging_config.py. This module will\n",
    "    handle the configuration of loggers, handlers, and formatters. It should be imported at the beginning of your \n",
    "    application to ensure consistent logging settings."
   ]
  },
  {
   "cell_type": "code",
   "execution_count": 21,
   "id": "9bbe488a",
   "metadata": {},
   "outputs": [],
   "source": [
    "# logging_config.py\n",
    "import logging\n",
    "\n",
    "# Create and configure the root logger\n",
    "logging.basicConfig(level=logging.DEBUG, filename='app.log', filemode='w')\n",
    "\n",
    "# Create a custom log formatter\n",
    "formatter = logging.Formatter('%(asctime)s - %(levelname)s - %(message)s')\n",
    "\n",
    "# Create a file handler and set the formatter\n",
    "file_handler = logging.FileHandler('app.log')\n",
    "file_handler.setFormatter(formatter)\n",
    "\n",
    "# Add the file handler to the root logger\n",
    "logging.getLogger().addHandler(file_handler)"
   ]
  },
  {
   "cell_type": "code",
   "execution_count": null,
   "id": "2908e344",
   "metadata": {},
   "outputs": [],
   "source": [
    "    b. Import Logging Configuration:\n",
    "In each module or class where you want to use logging, import the logging_config module at the beginning of the file.\n",
    "    This will ensure that the logging configuration is applied to all loggers created in that module."
   ]
  },
  {
   "cell_type": "code",
   "execution_count": null,
   "id": "6da9b937",
   "metadata": {},
   "outputs": [],
   "source": [
    "# other_module.py\n",
    "import logging\n",
    "import logging_config\n",
    "\n",
    "logger = logging.getLogger(__name__)\n",
    "\n",
    "def some_function():\n",
    "    logger.debug(\"This is a debug message.\")\n",
    "    # Rest of the function code..."
   ]
  },
  {
   "cell_type": "code",
   "execution_count": null,
   "id": "7e005e8e",
   "metadata": {},
   "outputs": [],
   "source": [
    "    c. Create Loggers within Modules:\n",
    "In each module or class, create a logger using logging.getLogger(__name__). This ensures that each logger is identified by\n",
    "    the name of the module or class, making it easier to differentiate log messages from different parts of the application."
   ]
  },
  {
   "cell_type": "code",
   "execution_count": null,
   "id": "f94f73c3",
   "metadata": {},
   "outputs": [],
   "source": [
    "# other_module.py\n",
    "import logging\n",
    "import logging_config\n",
    "\n",
    "logger = logging.getLogger(__name__)\n",
    "\n",
    "def some_function():\n",
    "    logger.debug(\"This is a debug message.\")\n",
    "    # Rest of the function code..."
   ]
  },
  {
   "cell_type": "code",
   "execution_count": null,
   "id": "5d53b171",
   "metadata": {},
   "outputs": [],
   "source": [
    "    d. Use Appropriate Log Levels and Log Messages:\n",
    "In your application, use the appropriate log levels (e.g., DEBUG, INFO, ERROR) and log messages to convey meaningful \n",
    "    information. Consider using different log levels based on the severity of the messages and the runtime environment \n",
    "    (e.g., development, testing, production)."
   ]
  },
  {
   "cell_type": "code",
   "execution_count": null,
   "id": "860fa5ba",
   "metadata": {},
   "outputs": [],
   "source": [
    "# some_module.py\n",
    "import logging\n",
    "import logging_config\n",
    "\n",
    "logger = logging.getLogger(__name__)\n",
    "\n",
    "def complex_calculation(data):\n",
    "    logger.debug(\"Starting complex calculation.\")\n",
    "    # Perform complex calculations...\n",
    "    logger.debug(\"Complex calculation completed.\")"
   ]
  },
  {
   "cell_type": "code",
   "execution_count": null,
   "id": "e9b6d9ff",
   "metadata": {},
   "outputs": [],
   "source": [
    "9. What is the difference between the logging and print statements in Python? When should you use logging over print \n",
    "    statements in a real-world application?"
   ]
  },
  {
   "cell_type": "code",
   "execution_count": null,
   "id": "6cc45026",
   "metadata": {},
   "outputs": [],
   "source": [
    "A. The logging and print statements in Python serve different purposes and have distinct use cases in a real-world appl.\n",
    "\n",
    "    1. Purpose:\n",
    "print: The print statement is used for basic output and is commonly used for debugging and quick inspection of variables\n",
    "    or intermediate values during development. It writes the output to the standard output (usually the console), making it suitable for simple troubleshooting during code development.\n",
    "logging: The logging module is a more sophisticated and powerful mechanism for logging information during the execution of\n",
    "    a program. It allows you to categorize log messages by severity levels (e.g., DEBUG, INFO, WARNING, ERROR, CRITICAL),\n",
    "    format log messages, manage log handlers (e.g., writing logs to a file, sending over a network), and control logging\n",
    "    behavior at runtime.\n",
    "\n",
    "    2. Control and Flexibility:\n",
    "print: The print statement is straightforward and easy to use, but it lacks the ability to control the level of detail or\n",
    "    the severity of the output. Once the code is deployed, removing or commenting out print statements can be tedious, and they might inadvertently remain in the codebase, cluttering the output.\n",
    "logging: The logging module provides fine-grained control over the log messages. You can enable or disable logging for \n",
    "    specific modules, set different log levels, and configure different log handlers, all without modifying the code.\n",
    "    This flexibility allows you to control the verbosity of the log output, making it suitable for both development and \n",
    "    production environments.\n",
    "\n",
    "    3. Logging Best Practices:\n",
    "print: While print statements are easy to implement and may be useful for quick debugging, they are generally not suitable\n",
    "    for production code. Leaving print statements in a production application can lead to security risks, performance \n",
    "    degradation, and an unprofessional user experience.\n",
    "logging: Using the logging module is a best practice for production code. It allows you to log important events, errors,\n",
    "    and warnings, which can be invaluable for debugging and monitoring the application. By configuring logging properly,\n",
    "    you can ensure that only relevant information is logged, and you can enable more detailed logging when needed during \n",
    "    troubleshooting.\n",
    "\n",
    "    4. Output Destination:\n",
    "print: The print statement outputs to the standard output (console) by default, and its output cannot be easily redirected \n",
    "    to other destinations, such as log files or remote log servers.\n",
    "logging: The logging module provides handlers that can send log messages to various destinations, such as files, email,\n",
    "    syslog, and network servers. This makes it more suitable for logging in a variety of production scenarios, allowing \n",
    "    you to capture and analyze log data efficiently.\n",
    "\n",
    "In summary, use print statements during development for quick inspection and debugging purposes. However, in real-world \n",
    "    applications, use the logging module for structured and controlled logging. Logging provides greater flexibility,\n",
    "    configurability, and security, making it a better choice for capturing important information and events throughout\n",
    "    the applications lifecycle. Properly configured logging helps developers understand the applications behavior, \n",
    "    diagnose issues, and monitor performance in a systematic and professional manner."
   ]
  },
  {
   "cell_type": "code",
   "execution_count": null,
   "id": "9e8b0a59",
   "metadata": {},
   "outputs": [],
   "source": [
    "10. Write a Python program that logs a message to a file named \"app.log\" with the following requirements:\n",
    "● The log message should be \"Hello, World!\"\n",
    "● The log level should be set to \"INFO.\"\n",
    "● The log file should append new log entries without overwriting previous ones"
   ]
  },
  {
   "cell_type": "code",
   "execution_count": null,
   "id": "d717c514",
   "metadata": {},
   "outputs": [],
   "source": [
    "A. To achieve the requirements, you can use the logging module in Python. Heres a Python program that logs the message\n",
    "    \"Hello, World!\" to a file named \"app.log\" with an INFO log level and appends new log entries without overwriting \n",
    "    previous ones:"
   ]
  },
  {
   "cell_type": "code",
   "execution_count": 25,
   "id": "b9a4e19e",
   "metadata": {},
   "outputs": [
    {
     "name": "stderr",
     "output_type": "stream",
     "text": [
      "INFO:my_logger:Hello, World!\n"
     ]
    }
   ],
   "source": [
    "import logging\n",
    "\n",
    "def setup_logger():\n",
    "    # Create a logger\n",
    "    logger = logging.getLogger('my_logger')\n",
    "    logger.setLevel(logging.INFO)\n",
    "\n",
    "    # Create a file handler\n",
    "    file_handler = logging.FileHandler('app.log', mode='a')  # 'a' for append mode\n",
    "    file_handler.setLevel(logging.INFO)\n",
    "\n",
    "    # Create a formatter and set it on the handler\n",
    "    formatter = logging.Formatter('%(asctime)s - %(levelname)s - %(message)s')\n",
    "    file_handler.setFormatter(formatter)\n",
    "\n",
    "    # Add the handler to the logger\n",
    "    logger.addHandler(file_handler)\n",
    "\n",
    "    return logger\n",
    "\n",
    "def main():\n",
    "    # Setup the logger\n",
    "    logger = setup_logger()\n",
    "\n",
    "    # Log the message\n",
    "    logger.info(\"Hello, World!\")\n",
    "\n",
    "if __name__ == \"__main__\":\n",
    "    main()"
   ]
  },
  {
   "cell_type": "code",
   "execution_count": null,
   "id": "da56c1b6",
   "metadata": {},
   "outputs": [],
   "source": [
    "$ The setup_logger() function sets up the logging configuration, including creating a logger, a file handler (with append \n",
    "    mode 'a'), and a custom log formatter. The loggers log level is set to INFO to capture log messages with INFO level \n",
    "    and above.\n",
    "\n",
    "$ In the main() function, we call setup_logger() to get the configured logger.\n",
    "\n",
    "$ We then log the message \"Hello, World!\" using the logger.info() method. Since the log level is set to INFO, this message \n",
    "    will be written to the file \"app.log\" with an INFO log level.\n",
    "\n",
    "$ The log messages are appended to the \"app.log\" file due to the mode 'a' specified when creating the file handler. This \n",
    "    means new log entries wont overwrite previous ones, and the log file will continue to grow with each new log message."
   ]
  },
  {
   "cell_type": "code",
   "execution_count": null,
   "id": "5ecceace",
   "metadata": {},
   "outputs": [],
   "source": [
    "11. Create a Python program that logs an error message to the console and a file named \"errors.log\" if an exception occurs\n",
    "    during the programs execution. The error message should include the exception type and a timestamp"
   ]
  },
  {
   "cell_type": "code",
   "execution_count": null,
   "id": "9906e6d7",
   "metadata": {},
   "outputs": [],
   "source": [
    "A. To create a Python program that logs an error message to the console and a file named \"errors.log\" when an exception \n",
    "    occurs during the programs execution, you can use the logging module. Heres a sample program that demonstrates this:"
   ]
  },
  {
   "cell_type": "code",
   "execution_count": 26,
   "id": "cbb40325",
   "metadata": {},
   "outputs": [
    {
     "name": "stderr",
     "output_type": "stream",
     "text": [
      "2023-07-20 13:23:21,416 - ERROR - Exception occurred: ZeroDivisionError - division by zero\n",
      "ERROR:my_logger:Exception occurred: ZeroDivisionError - division by zero\n"
     ]
    }
   ],
   "source": [
    "import logging\n",
    "import datetime\n",
    "\n",
    "def setup_logger():\n",
    "    # Create a logger\n",
    "    logger = logging.getLogger('my_logger')\n",
    "    logger.setLevel(logging.ERROR)  # Set log level to ERROR\n",
    "\n",
    "    # Create a console handler\n",
    "    console_handler = logging.StreamHandler()  # Output to console\n",
    "    console_handler.setLevel(logging.ERROR)\n",
    "\n",
    "    # Create a file handler\n",
    "    file_handler = logging.FileHandler('errors.log', mode='a')  # 'a' for append mode\n",
    "    file_handler.setLevel(logging.ERROR)\n",
    "\n",
    "    # Create a formatter and set it on the handlers\n",
    "    formatter = logging.Formatter('%(asctime)s - %(levelname)s - %(message)s')\n",
    "    console_handler.setFormatter(formatter)\n",
    "    file_handler.setFormatter(formatter)\n",
    "\n",
    "    # Add the handlers to the logger\n",
    "    logger.addHandler(console_handler)\n",
    "    logger.addHandler(file_handler)\n",
    "\n",
    "    return logger\n",
    "\n",
    "def some_function():\n",
    "    try:\n",
    "        # Some code that might raise an exception\n",
    "        x = 10 / 0\n",
    "    except ZeroDivisionError as e:\n",
    "        logger = setup_logger()\n",
    "        logger.error(f\"Exception occurred: {e.__class__.__name__} - {e}\")\n",
    "\n",
    "if __name__ == \"__main__\":\n",
    "    some_function()"
   ]
  },
  {
   "cell_type": "code",
   "execution_count": null,
   "id": "fd4d7de2",
   "metadata": {},
   "outputs": [],
   "source": [
    "$ The setup_logger() function sets up the logging configuration, including creating a logger, a console handler, and a \n",
    "    file handler. The log level for both handlers is set to ERROR to capture error messages.\n",
    "\n",
    "$ Inside the some_function() function, there is a division by zero operation (x = 10 / 0) that raises a ZeroDivisionError.\n",
    "\n",
    "$ The except block catches the ZeroDivisionError and initializes the logger using setup_logger().\n",
    "\n",
    "$ The logger.error() method is used to log the error message. It includes the exception type (e.__class__.__name__) and\n",
    "    the error message (e). The log message is printed to the console and appended to the \"errors.log\" file with the specified log format.\n",
    "\n",
    "$ When you run the program, it will raise a ZeroDivisionError, and the error message with the exception type and timestamp\n",
    "    will be displayed on the console and recorded in the \"errors.log\" file."
   ]
  }
 ],
 "metadata": {
  "kernelspec": {
   "display_name": "Python 3 (ipykernel)",
   "language": "python",
   "name": "python3"
  },
  "language_info": {
   "codemirror_mode": {
    "name": "ipython",
    "version": 3
   },
   "file_extension": ".py",
   "mimetype": "text/x-python",
   "name": "python",
   "nbconvert_exporter": "python",
   "pygments_lexer": "ipython3",
   "version": "3.10.9"
  }
 },
 "nbformat": 4,
 "nbformat_minor": 5
}
