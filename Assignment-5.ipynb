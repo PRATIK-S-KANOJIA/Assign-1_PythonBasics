{
 "cells": [
  {
   "cell_type": "code",
   "execution_count": null,
   "id": "ca89aeb0",
   "metadata": {},
   "outputs": [],
   "source": [
    "1. What does an empty dictionarys code look like?"
   ]
  },
  {
   "cell_type": "code",
   "execution_count": 1,
   "id": "04128ddb",
   "metadata": {},
   "outputs": [
    {
     "data": {
      "text/plain": [
       "dict"
      ]
     },
     "execution_count": 1,
     "metadata": {},
     "output_type": "execute_result"
    }
   ],
   "source": [
    "#A. \n",
    "d  = {}\n",
    "type(d)"
   ]
  },
  {
   "cell_type": "code",
   "execution_count": null,
   "id": "305e2d32",
   "metadata": {},
   "outputs": [],
   "source": [
    "2. What is the value of a dictionary value with the key 'foo' and the value 42?"
   ]
  },
  {
   "cell_type": "code",
   "execution_count": 4,
   "id": "db0498be",
   "metadata": {},
   "outputs": [
    {
     "name": "stdout",
     "output_type": "stream",
     "text": [
      "dict_keys(['foo'])\n",
      "dict_values([42])\n",
      "dict_items([('foo', 42)])\n"
     ]
    }
   ],
   "source": [
    "#A.                           #AfterAssigningValue42ToKeyfoo\n",
    "{\"foo\" : 42}   \n",
    "print({\"foo\" : 42}.keys())\n",
    "print({\"foo\" : 42}.values())\n",
    "print({\"foo\" : 42}.items())"
   ]
  },
  {
   "cell_type": "code",
   "execution_count": null,
   "id": "bd464ffe",
   "metadata": {},
   "outputs": [],
   "source": [
    "3. What is the most significant distinction between a dictionary and a list?"
   ]
  },
  {
   "cell_type": "code",
   "execution_count": null,
   "id": "8dcf362f",
   "metadata": {},
   "outputs": [],
   "source": [
    "A. Easy to access items in a python dictionary and dictionary values via keys and not by their position, whereas in list \n",
    "    values can be acessed by the indexes or positions. \n",
    "    A list is an ordered sequence of objects, whereas dictionaries are unordered sets."
   ]
  },
  {
   "cell_type": "code",
   "execution_count": null,
   "id": "74182b92",
   "metadata": {},
   "outputs": [],
   "source": [
    "4. What happens if you try to access spam['foo'] if spam is {'bar': 100}?"
   ]
  },
  {
   "cell_type": "code",
   "execution_count": 5,
   "id": "ab109a10",
   "metadata": {},
   "outputs": [
    {
     "ename": "KeyError",
     "evalue": "'foo'",
     "output_type": "error",
     "traceback": [
      "\u001b[1;31m---------------------------------------------------------------------------\u001b[0m",
      "\u001b[1;31mKeyError\u001b[0m                                  Traceback (most recent call last)",
      "Cell \u001b[1;32mIn[5], line 3\u001b[0m\n\u001b[0;32m      1\u001b[0m \u001b[38;5;66;03m#A. \u001b[39;00m\n\u001b[0;32m      2\u001b[0m spam \u001b[38;5;241m=\u001b[39m {\u001b[38;5;124m\"\u001b[39m\u001b[38;5;124mbar\u001b[39m\u001b[38;5;124m\"\u001b[39m:\u001b[38;5;241m100\u001b[39m}\n\u001b[1;32m----> 3\u001b[0m \u001b[43mspam\u001b[49m\u001b[43m[\u001b[49m\u001b[38;5;124;43m\"\u001b[39;49m\u001b[38;5;124;43mfoo\u001b[39;49m\u001b[38;5;124;43m\"\u001b[39;49m\u001b[43m]\u001b[49m\n",
      "\u001b[1;31mKeyError\u001b[0m: 'foo'"
     ]
    }
   ],
   "source": [
    "#A. \n",
    "spam = {\"bar\":100}\n",
    "spam[\"foo\"]             #AsThereIsNoKeyPresentInDictSpamNamedfooSoErrorIsRaised"
   ]
  },
  {
   "cell_type": "code",
   "execution_count": null,
   "id": "511ca8d1",
   "metadata": {},
   "outputs": [],
   "source": [
    "5. If a dictionary is stored in spam, what is the difference between the expressions 'cat' in spam and 'cat' in spam.keys()?"
   ]
  },
  {
   "cell_type": "code",
   "execution_count": 8,
   "id": "4d4d1e1c",
   "metadata": {},
   "outputs": [
    {
     "name": "stdout",
     "output_type": "stream",
     "text": [
      "True\n",
      "True\n"
     ]
    }
   ],
   "source": [
    "#A. \n",
    "spam = {\"cat\":1}            #AsBoth'Cat'NameInSpam&Spam.KeysIsSameSoItReturnsTrue       \n",
    "print(\"cat\" in spam)\n",
    "print(\"cat\" in spam.keys())   "
   ]
  },
  {
   "cell_type": "code",
   "execution_count": null,
   "id": "ad606ad5",
   "metadata": {},
   "outputs": [],
   "source": [
    "6. If a dictionary is stored in spam, what is the difference between the expressions 'cat' in spam and 'cat' in \n",
    "    spam.values()?"
   ]
  },
  {
   "cell_type": "code",
   "execution_count": 9,
   "id": "fb3c4893",
   "metadata": {},
   "outputs": [
    {
     "name": "stdout",
     "output_type": "stream",
     "text": [
      "True\n",
      "False\n"
     ]
    }
   ],
   "source": [
    "#A. \n",
    "spam = {\"cat\":1}            #AsBoth'Cat'NameInSpam&Spam.ValuesDoesNotMAtchesSoItReturnsFalse     \n",
    "print(\"cat\" in spam)\n",
    "print(\"cat\" in spam.values())   #AsItChecksThatCatIsPresentOrNotInSpam.Values"
   ]
  },
  {
   "cell_type": "code",
   "execution_count": null,
   "id": "340c6691",
   "metadata": {},
   "outputs": [],
   "source": [
    "7. What is a shortcut for the following code?\n",
    "\n",
    "if 'color' not in spam:\n",
    "spam['color'] = 'black'"
   ]
  },
  {
   "cell_type": "code",
   "execution_count": 7,
   "id": "19e7864f",
   "metadata": {},
   "outputs": [
    {
     "data": {
      "text/plain": [
       "{'color': 'black'}"
      ]
     },
     "execution_count": 7,
     "metadata": {},
     "output_type": "execute_result"
    }
   ],
   "source": [
    "#A.\n",
    "spam = {}\n",
    "spam.setdefault(\"color\",\"black\")\n",
    "spam"
   ]
  },
  {
   "cell_type": "code",
   "execution_count": null,
   "id": "3bd3142f",
   "metadata": {},
   "outputs": [],
   "source": [
    "8. How do you \"pretty print\" dictionary values using which module and function?"
   ]
  },
  {
   "cell_type": "code",
   "execution_count": 19,
   "id": "4ed08f0c",
   "metadata": {},
   "outputs": [],
   "source": [
    "#A. \n",
    "import pprint\n",
    "d = [{\"Sr.No.\":1,\"Student Name\":\"Pratik\",\"Age\":25},{\"Sr.No.\":2,\"Student Name\":\"Shivam\",\"Age\":22},\n",
    "{\"Sr.No.\":3,\"Student Name\":\"Kartik\",\"Age\":24}]"
   ]
  },
  {
   "cell_type": "code",
   "execution_count": 20,
   "id": "ae913a59",
   "metadata": {},
   "outputs": [
    {
     "name": "stdout",
     "output_type": "stream",
     "text": [
      "[{'Age': 25, 'Sr.No.': 1, 'Student Name': 'Pratik'},\n",
      " {'Age': 22, 'Sr.No.': 2, 'Student Name': 'Shivam'},\n",
      " {'Age': 24, 'Sr.No.': 3, 'Student Name': 'Kartik'}]\n"
     ]
    }
   ],
   "source": [
    "pprint.pprint(d)            #pprintIsUsedToThrowOutputInAPrenstableformOrASystematicReadableManner"
   ]
  },
  {
   "cell_type": "code",
   "execution_count": 21,
   "id": "3a04f071",
   "metadata": {},
   "outputs": [
    {
     "name": "stdout",
     "output_type": "stream",
     "text": [
      "[{'Sr.No.': 1, 'Student Name': 'Pratik', 'Age': 25}, {'Sr.No.': 2, 'Student Name': 'Shivam', 'Age': 22}, {'Sr.No.': 3, 'Student Name': 'Kartik', 'Age': 24}]\n"
     ]
    }
   ],
   "source": [
    "print(d)                   #printFacilitatesJustToPrintAsItIsWithoutConsideringPresentability"
   ]
  }
 ],
 "metadata": {
  "kernelspec": {
   "display_name": "Python 3 (ipykernel)",
   "language": "python",
   "name": "python3"
  },
  "language_info": {
   "codemirror_mode": {
    "name": "ipython",
    "version": 3
   },
   "file_extension": ".py",
   "mimetype": "text/x-python",
   "name": "python",
   "nbconvert_exporter": "python",
   "pygments_lexer": "ipython3",
   "version": "3.10.9"
  }
 },
 "nbformat": 4,
 "nbformat_minor": 5
}
