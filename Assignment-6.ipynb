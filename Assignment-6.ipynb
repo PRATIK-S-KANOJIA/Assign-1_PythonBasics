{
 "cells": [
  {
   "cell_type": "code",
   "execution_count": null,
   "id": "c5c267f0",
   "metadata": {},
   "outputs": [],
   "source": [
    "Q.1. What are keywords in python? Using the keyword library, print all the python keywords."
   ]
  },
  {
   "cell_type": "code",
   "execution_count": null,
   "id": "d2178b44",
   "metadata": {},
   "outputs": [],
   "source": [
    "A.\n",
    "   # Python Keywords:\n",
    "    \n",
    "    Value Keywords: True, False, None.\n",
    "    Operator Keywords: and, or, not, in, is.\n",
    "    Control Flow Keywords: if, elif, else.\n",
    "    Iteration Keywords: for, while, break, continue, else.\n",
    "    Structure Keywords: def, class, with, as, pass, lambda.\n",
    "    Returning Keywords: return, yield.\n",
    "    Import Keywords: import, from, as.\n",
    "    Exception-Handling Keywords: try, except, raise, finally, else, assert\n",
    "    Asynchronous Programming Keywords: async, await\n",
    "    Variable Handling Keywords: del, global, nonlocal"
   ]
  },
  {
   "cell_type": "code",
   "execution_count": 3,
   "id": "52ab05da",
   "metadata": {},
   "outputs": [
    {
     "name": "stdout",
     "output_type": "stream",
     "text": [
      "['False', 'None', 'True', 'and', 'as', 'assert', 'async', 'await', 'break', 'class', 'continue', 'def', 'del', 'elif', 'else', 'except', 'finally', 'for', 'from', 'global', 'if', 'import', 'in', 'is', 'lambda', 'nonlocal', 'not', 'or', 'pass', 'raise', 'return', 'try', 'while', 'with', 'yield']\n"
     ]
    }
   ],
   "source": [
    "import keyword\n",
    "print (keyword.kwlist)"
   ]
  },
  {
   "cell_type": "code",
   "execution_count": null,
   "id": "99eafd87",
   "metadata": {},
   "outputs": [],
   "source": [
    "Q.2. What are the rules to create variables in python?"
   ]
  },
  {
   "cell_type": "code",
   "execution_count": null,
   "id": "7fde2175",
   "metadata": {},
   "outputs": [],
   "source": [
    "A. \n",
    "    # Rules for Python variables are as follows:\n",
    "\n",
    "    1. A variable name must start with a letter or the underscore character\n",
    "    2. A variable name cannot start with a number\n",
    "    3. A variable name can only contain alpha-numeric characters and underscores (A-z, 0-9, and _ )\n",
    "    4. Variable names are case-sensitive (age, Age and AGE are three different variables)"
   ]
  },
  {
   "cell_type": "code",
   "execution_count": null,
   "id": "f1d5b8ed",
   "metadata": {},
   "outputs": [],
   "source": [
    "Q.3. What are the standards and conventions followed for the nomenclature of variables in\n",
    "        python to improve code readability and maintainability?"
   ]
  },
  {
   "cell_type": "code",
   "execution_count": null,
   "id": "ced73ebb",
   "metadata": {},
   "outputs": [],
   "source": [
    "A.  1. THE CODE LAYOUT:\n",
    "    This consists of Indentation, the maximum line length to be used, line breaks and blank lines, imports in python,etc.\n",
    "    \n",
    "    A) IMPORTS, BLANK LINES, AND THE INDENTATIONS.\n",
    "    B) THE LENGTH OF THE LINE AND THE LINE BREAKS.\n",
    "    \n",
    "    2. WHITESPACES, TRAILING COMMAS, AND STRING QUOTES:\n",
    "        No need of leaving blank spaces or white spaces in between the code unnecesarily. There must be single white spaces\n",
    "        before and after operators.\n",
    "    \n",
    "    3. NAMING CONVENTIONS:\n",
    "        Variable names in Python can be any length and can consist of uppercase and lowercase letters ( A-Z , a-z ),\n",
    "        digits ( 0-9 ) i.e. Alphanumeric Values, and the underscore character ( _ ). An additional restriction is that, \n",
    "        although a variable name can contain digits, the first character of a variable name cant be a digit.\n",
    "        As python is a case sensitive language it should be taken into consideration that the name which is used to store\n",
    "        the variable name is called with the same case in the further code for use."
   ]
  },
  {
   "cell_type": "code",
   "execution_count": null,
   "id": "73a291cf",
   "metadata": {},
   "outputs": [],
   "source": [
    "Q.4. What will happen if a keyword is used as a variable name?"
   ]
  },
  {
   "cell_type": "code",
   "execution_count": null,
   "id": "8890ec5f",
   "metadata": {},
   "outputs": [],
   "source": [
    "A. Keywords are the inbuilt values in python which are already assigned with a predefined meaning. So they cant be used as \n",
    "    variable name in python it may give error."
   ]
  },
  {
   "cell_type": "code",
   "execution_count": null,
   "id": "b8167564",
   "metadata": {},
   "outputs": [],
   "source": [
    "Q.5. For what purpose def keyword is used?"
   ]
  },
  {
   "cell_type": "code",
   "execution_count": null,
   "id": "a171bf2f",
   "metadata": {},
   "outputs": [],
   "source": [
    "A. def keyword is used to create or define a function. \n",
    "    Ex: def Feature() here a funtion is defined named as Feature and it can be called an many times in code for further use."
   ]
  },
  {
   "cell_type": "code",
   "execution_count": null,
   "id": "ac940bfc",
   "metadata": {},
   "outputs": [],
   "source": [
    "Q.6. What is the operation of this special character ‘\\’?"
   ]
  },
  {
   "cell_type": "code",
   "execution_count": null,
   "id": "8e020770",
   "metadata": {},
   "outputs": [],
   "source": [
    "A. The backslash \"\\\" is a special character, also called the \"escape\" character.\n",
    "    It is used in representing certain whitespace characters: \"\\t\" is a tab, \"\\n\" is a newline, and \"\\r\" is \n",
    "    a carriage return. "
   ]
  },
  {
   "cell_type": "code",
   "execution_count": null,
   "id": "dd70941a",
   "metadata": {},
   "outputs": [],
   "source": [
    "Q.7. Give an example of the following conditions:\n",
    "(i) Homogeneous list\n",
    "(ii) Heterogeneous set\n",
    "(iii) Homogeneous tuple"
   ]
  },
  {
   "cell_type": "code",
   "execution_count": 2,
   "id": "ea646e8a",
   "metadata": {},
   "outputs": [],
   "source": [
    "#A.\n",
    "HomoList = [1,2,3,4,5,6]                                #VariableAssignedToAListConatainingValuesOfSameDataType\n",
    "HeteroSet = {1,2,\"Three\",4.4,True}                      #VariableAssignedToASetConatainingValuesOfDifferntDataType\n",
    "HomoTuple = (\"Pratik\",\"Rekha\",\"Suresh\",\"Kanojia\")       #VariableAssignedToATupleConatainingValuesOfSameDataType"
   ]
  },
  {
   "cell_type": "code",
   "execution_count": null,
   "id": "7c458738",
   "metadata": {},
   "outputs": [],
   "source": [
    "Q.8. Explain the mutable and immutable data types with proper explanation & examples."
   ]
  },
  {
   "cell_type": "code",
   "execution_count": null,
   "id": "66abda36",
   "metadata": {},
   "outputs": [],
   "source": [
    "A. \n",
    "#Mutable Data Types:\n",
    "    Lists: Lists are ordered collections of items. You can add, remove, or modify elements in a list.\n",
    "    Dictionaries: Dictionaries store key-value pairs. You can add, remove, or modify key-value pairs in a dictionary.\n",
    "    Sets: Sets are unordered collections of unique elements. You can add or remove elements from a set.\n",
    "\n",
    "#Immutable Data Types:\n",
    "    Numbers (int, float, complex): Numbers in Python are immutable.\n",
    "    Strings: Strings are sequences of characters and are immutable. You cannot change a specific character in a string, \n",
    "             but you can create a new string with the desired modification.\n",
    "    Tuples: Tuples are ordered, immutable collections. Once a tuple is created, you cannot modify its elements."
   ]
  },
  {
   "cell_type": "code",
   "execution_count": null,
   "id": "a295d3eb",
   "metadata": {},
   "outputs": [],
   "source": [
    "Q.9. Write a code to create the given structure using only for loop.\n",
    " \n",
    "    *\n",
    "   ***\n",
    "  *****\n",
    " *******\n",
    "*********"
   ]
  },
  {
   "cell_type": "code",
   "execution_count": 1,
   "id": "3c19b7ee",
   "metadata": {},
   "outputs": [
    {
     "name": "stdout",
     "output_type": "stream",
     "text": [
      "    *\n",
      "   ***\n",
      "  *****\n",
      " *******\n",
      "*********\n"
     ]
    }
   ],
   "source": [
    "#A.\n",
    "rows = 5\n",
    "\n",
    "for i in range(rows):\n",
    "    \n",
    "    for j in range(rows - i - 1):\n",
    "        print(\" \", end=\"\")\n",
    "    \n",
    "    for j in range(2 * i + 1):\n",
    "        print(\"*\", end=\"\")\n",
    "    \n",
    "    print()"
   ]
  },
  {
   "cell_type": "code",
   "execution_count": null,
   "id": "569a8ac4",
   "metadata": {},
   "outputs": [],
   "source": [
    "Q.10. Write a code to create the given structure using while loop.\n",
    "\n",
    "|||||||||\n",
    " |||||||\n",
    "  |||||\n",
    "   |||\n",
    "    |"
   ]
  },
  {
   "cell_type": "code",
   "execution_count": null,
   "id": "f76df84d",
   "metadata": {},
   "outputs": [],
   "source": [
    "#A.\n",
    "rows = 5\n",
    "\n",
    "i = 0\n",
    "spaces = 0\n",
    "\n",
    "while i < rows:\n",
    "    # Print spaces for the left side of the row\n",
    "    j = 0\n",
    "    while j < spaces:\n",
    "        print(\" \", end=\"\")\n",
    "        j += 1\n",
    "    \n",
    "    # Print vertical bars\n",
    "    j = 0\n",
    "    while j < rows - i:\n",
    "        print(\"|\", end=\"\")\n",
    "        j += 1\n",
    "    \n",
    "    # Move to the next line after printing the row\n",
    "    print()\n",
    "    \n",
    "    # Increment variables for the next row\n",
    "    i += 1\n",
    "    spaces += 1"
   ]
  }
 ],
 "metadata": {
  "kernelspec": {
   "display_name": "Python 3 (ipykernel)",
   "language": "python",
   "name": "python3"
  },
  "language_info": {
   "codemirror_mode": {
    "name": "ipython",
    "version": 3
   },
   "file_extension": ".py",
   "mimetype": "text/x-python",
   "name": "python",
   "nbconvert_exporter": "python",
   "pygments_lexer": "ipython3",
   "version": "3.10.9"
  }
 },
 "nbformat": 4,
 "nbformat_minor": 5
}
