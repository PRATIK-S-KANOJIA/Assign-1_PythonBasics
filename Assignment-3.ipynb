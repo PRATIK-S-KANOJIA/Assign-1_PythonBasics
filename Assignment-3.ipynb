{
 "cells": [
  {
   "cell_type": "markdown",
   "id": "de93f750",
   "metadata": {},
   "source": [
    "1. Why are functions advantageous to have in your programs?"
   ]
  },
  {
   "cell_type": "markdown",
   "id": "f1089611",
   "metadata": {},
   "source": [
    "  A.  With the help of functions, we can avoid rewriting the same logic or code again and again in a program. \n",
    "    In a single Program, we can call Python functions anywhere and also call multiple times. \n",
    "    We can track a large Python program easily when it is divided into multiple functions.\n",
    "    \n",
    "   The main advantage is also that the functions break long programs up into smaller components & then it becomes easy \n",
    "    to resolve."
   ]
  },
  {
   "cell_type": "markdown",
   "id": "ae3ee30b",
   "metadata": {},
   "source": [
    "2. When does the code in a function run: when its specified or when its called?"
   ]
  },
  {
   "cell_type": "markdown",
   "id": "37ebae10",
   "metadata": {},
   "source": [
    "A. The code in a function does not run when it is defined, it runs when it is called."
   ]
  },
  {
   "cell_type": "markdown",
   "id": "f4c12072",
   "metadata": {},
   "source": [
    "3. What statement creates a function?"
   ]
  },
  {
   "cell_type": "markdown",
   "id": "0d47561b",
   "metadata": {},
   "source": [
    "A. The keyword which creates a function is def.\n",
    "    Ex: def element() , here element is defined as function."
   ]
  },
  {
   "cell_type": "markdown",
   "id": "c91a3cad",
   "metadata": {},
   "source": [
    "4. What is the difference between a function and a function call?"
   ]
  },
  {
   "cell_type": "markdown",
   "id": "205ef13f",
   "metadata": {},
   "source": [
    "A. A function is a piece of code which enhanced the reusability and modularity of your program.\n",
    "    It means that piece of code need not be written again. A function call means calling that function. \n",
    "    Unless a function is called there is no use of that function."
   ]
  },
  {
   "cell_type": "markdown",
   "id": "d94fed4f",
   "metadata": {},
   "source": [
    "5. How many global scopes are there in a Python program? How many local scopes?"
   ]
  },
  {
   "cell_type": "markdown",
   "id": "e153aec2",
   "metadata": {},
   "source": [
    "A. There is only one global Python scope per program execution. This scope remains in existence until \n",
    "    the program terminates and all its names are forgotten. \n",
    "    If we not do it, the next time you were to run the program, the names would remember their values from the previous run\n",
    "    and can pop error.\n",
    "    When it comes to local scopes it may varry starting from 1 to nth."
   ]
  },
  {
   "cell_type": "markdown",
   "id": "a71c65a7",
   "metadata": {},
   "source": [
    "6. What happens to variables in a local scope when the function call returns?"
   ]
  },
  {
   "cell_type": "markdown",
   "id": "b342c0b0",
   "metadata": {},
   "source": [
    "A. When the variables in a local scope when the function call returns the local variables get destroyed.\n",
    "    "
   ]
  },
  {
   "cell_type": "markdown",
   "id": "3a003417",
   "metadata": {},
   "source": [
    "7. What is the concept of a return value? Is it possible to have a return value in an expression?"
   ]
  },
  {
   "cell_type": "markdown",
   "id": "b497d029",
   "metadata": {},
   "source": [
    "A. A return is a value that a function returns to the calling function when it completes its task.\n",
    "    If the return statement contains an expression, its evaluated first and then the value is returned."
   ]
  },
  {
   "cell_type": "markdown",
   "id": "47b8a9e7",
   "metadata": {},
   "source": [
    "8. If a function does not have a return statement, what is the return value of a call to that function?"
   ]
  },
  {
   "cell_type": "markdown",
   "id": "d3790183",
   "metadata": {},
   "source": [
    "A. If no return statement appears in a function definition or if a function does not have a return statement, \n",
    "    control automatically returns to the calling function after the last statement of the called function is executed \n",
    "    & because of it the return value of the called function is undefined."
   ]
  },
  {
   "cell_type": "markdown",
   "id": "319aa500",
   "metadata": {},
   "source": [
    "9. How do you make a function variable refer to the global variable?"
   ]
  },
  {
   "cell_type": "markdown",
   "id": "5fcbf74a",
   "metadata": {},
   "source": [
    "A.  A variable is created inside a function, that variable is called as local, and can only be used inside that function. \n",
    "    The global keyword is usedTo create a global variable inside a function."
   ]
  },
  {
   "cell_type": "markdown",
   "id": "d57fefcb",
   "metadata": {},
   "source": [
    "10. What is the data type of None?"
   ]
  },
  {
   "cell_type": "markdown",
   "id": "6d3bdf21",
   "metadata": {},
   "source": [
    "A. None is a type with only one value, None . None is also used as the return type for functions that don't return value.\n"
   ]
  },
  {
   "cell_type": "markdown",
   "id": "66a2bbd1",
   "metadata": {},
   "source": [
    "11. What does the sentence import areallyourpetsnamederic do?"
   ]
  },
  {
   "cell_type": "markdown",
   "id": "67e87923",
   "metadata": {},
   "source": [
    "A. The import statement in the python code is going to import a module named as c. \n",
    "    This is not a inbuilt statement in python. "
   ]
  },
  {
   "cell_type": "markdown",
   "id": "5fd15a7c",
   "metadata": {},
   "source": [
    "12. If you had a bacon() feature in a spam module, what would you call it after importing spam?"
   ]
  },
  {
   "cell_type": "markdown",
   "id": "0b30ddf1",
   "metadata": {},
   "source": [
    "A. After importing spam the function can be called with spam.bacon()"
   ]
  },
  {
   "cell_type": "markdown",
   "id": "7b321cf5",
   "metadata": {},
   "source": [
    "13. What can you do to save a programme from crashing if it encounters an error?"
   ]
  },
  {
   "cell_type": "markdown",
   "id": "55c62d84",
   "metadata": {},
   "source": [
    "A. When it encounters an error, the control is passed to the except block, skipping the code in between. \n",
    "    As seen in the above code, we have moved our code inside a try and except statement. Try running the \n",
    "    program and it should throw an error message instead of crashing the program."
   ]
  },
  {
   "cell_type": "markdown",
   "id": "4a4803d6",
   "metadata": {},
   "source": [
    "14. What is the purpose of the try clause? What is the purpose of the except clause?"
   ]
  },
  {
   "cell_type": "markdown",
   "id": "d2cdb9ab",
   "metadata": {},
   "source": [
    "A. The try block lets you test a block of code for errors. It is like a doubt case which may run through any error.\n",
    "    The except block lets you handle the error. If the code in try clause throws an error it will execute except clause."
   ]
  }
 ],
 "metadata": {
  "kernelspec": {
   "display_name": "Python 3 (ipykernel)",
   "language": "python",
   "name": "python3"
  },
  "language_info": {
   "codemirror_mode": {
    "name": "ipython",
    "version": 3
   },
   "file_extension": ".py",
   "mimetype": "text/x-python",
   "name": "python",
   "nbconvert_exporter": "python",
   "pygments_lexer": "ipython3",
   "version": "3.10.9"
  }
 },
 "nbformat": 4,
 "nbformat_minor": 5
}
