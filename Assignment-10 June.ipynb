{
 "cells": [
  {
   "cell_type": "code",
   "execution_count": null,
   "id": "08f6636d",
   "metadata": {},
   "outputs": [],
   "source": [
    "1. In Python, what is the difference between a built-in function and a user-defined function? Provide an example of each."
   ]
  },
  {
   "cell_type": "code",
   "execution_count": null,
   "id": "479d327b",
   "metadata": {},
   "outputs": [],
   "source": [
    "A. Built-in functions are provided by Python itself, while user-defined functions are created by the programmer \n",
    "    to fulfill specific requirements.\n",
    "    \n",
    "    In Python, the main difference between a built-in function and a user-defined function lies in their origin\n",
    "    and availability.\n",
    "\n",
    "    Built-in function:\n",
    "    A built-in function is a function that is provided by Python as part of its standard library. \n",
    "    These functions are readily available and can be used directly without requiring any additional code or imports.\n",
    "    Built-in functions are implemented in Python itself or in C, C++, or other languages, depending on the implementation \n",
    "    of Python.\n",
    "    \n",
    "    Ex: len(), print(), sum(), range(), type(), etc.\n",
    "        \n",
    "    User-defined function:\n",
    "    A user-defined function is created by the programmer to perform a specific task or a set of instructions. \n",
    "    These functions are defined by the user using the def keyword followed by a function name, parentheses, \n",
    "    and a colon. User-defined functions can be called and executed from any part of the program once they are defined.\n",
    "    \n",
    "    Ex. Any keyword defined by user def tally(), def default(), def user(), etc."
   ]
  },
  {
   "cell_type": "code",
   "execution_count": null,
   "id": "e3ff66f5",
   "metadata": {},
   "outputs": [],
   "source": [
    "2. How can you pass arguments to a function in Python? Explain the difference between positional arguments and keyword\n",
    "    arguments."
   ]
  },
  {
   "cell_type": "code",
   "execution_count": null,
   "id": "c614918a",
   "metadata": {},
   "outputs": [],
   "source": [
    "A.  Arguments can be passed to a function by specifying them inside the parentheses when calling the function. \n",
    "    There are two types of arguments you can use: positional arguments and keyword arguments.\n",
    "        \n",
    "    Positional Arguments:\n",
    "    Positional arguments are passed to a function based on their position or order. The arguments are matched with \n",
    "    the function parameters in the order they are provided. The number of positional arguments passed must match the\n",
    "    number of parameters defined in the function.\n",
    "    \n",
    "    Keyword Arguments:\n",
    "    Keyword arguments are passed to a function using their names (keywords) along with the corresponding values.\n",
    "    The order of keyword arguments doesnt matter, as long as the names are specified correctly."
   ]
  },
  {
   "cell_type": "code",
   "execution_count": 5,
   "id": "db91f965",
   "metadata": {},
   "outputs": [
    {
     "name": "stdout",
     "output_type": "stream",
     "text": [
      "10\n"
     ]
    }
   ],
   "source": [
    "#Ex: A function called add_numbers() that takes two positional arguments and returns their sum:\n",
    "def add_numbers(a, b):\n",
    "    return a + b\n",
    "\n",
    "result = add_numbers(5, 5)\n",
    "print(result)  "
   ]
  },
  {
   "cell_type": "code",
   "execution_count": 6,
   "id": "844c96d7",
   "metadata": {},
   "outputs": [
    {
     "name": "stdout",
     "output_type": "stream",
     "text": [
      "6\n"
     ]
    }
   ],
   "source": [
    "#Ex: A function called multiply_numbers() that takes two keyword arguments and returns their product:\n",
    "def multiply_numbers(x, y):\n",
    "    return x * y\n",
    "\n",
    "result = multiply_numbers(x=2, y=3)\n",
    "print(result) "
   ]
  },
  {
   "cell_type": "code",
   "execution_count": null,
   "id": "f3c29a26",
   "metadata": {},
   "outputs": [],
   "source": [
    "3. What is the purpose of the return statement in a function? Can a function have multiple return statements? \n",
    "    Explain with an example."
   ]
  },
  {
   "cell_type": "code",
   "execution_count": null,
   "id": "77f658ab",
   "metadata": {},
   "outputs": [],
   "source": [
    "A. The return statement in a function is used to specify the value that the function should evaluate to and provide \n",
    "    back to the caller. It allows the function to complete its execution and provide a result.\n",
    "\n",
    "    Yes, a function can have multiple return statements. When a return statement is encountered, it immediately exits\n",
    "    the function and returns the specified value. This means that any code after a return statement within the function \n",
    "    will not be executed."
   ]
  },
  {
   "cell_type": "code",
   "execution_count": 8,
   "id": "28051d75",
   "metadata": {},
   "outputs": [
    {
     "name": "stdout",
     "output_type": "stream",
     "text": [
      "Even\n",
      "Odd\n"
     ]
    }
   ],
   "source": [
    "#Ex: \n",
    "def check_even_odd(number):\n",
    "    if number % 2 == 0:\n",
    "        return \"Even\"\n",
    "    else:\n",
    "        return \"Odd\"\n",
    "\n",
    "result1 = check_even_odd(4)\n",
    "print(result1)  # Output : Even\n",
    "\n",
    "result2 = check_even_odd(7)\n",
    "print(result2)"
   ]
  },
  {
   "cell_type": "code",
   "execution_count": null,
   "id": "f378a500",
   "metadata": {},
   "outputs": [],
   "source": [
    "4. What are lambda functions in Python? How are they different from regular functions? Provide an\n",
    "    example where a lambda function can be useful."
   ]
  },
  {
   "cell_type": "code",
   "execution_count": null,
   "id": "e35f740a",
   "metadata": {},
   "outputs": [],
   "source": [
    "A. Lambda functions, also known as anonymous functions, are small, one-line functions in Python that do not require \n",
    "    a def statement and are defined using the lambda keyword. They are used for simple, concise functions that are \n",
    "    typically used once and dont require a separate function definition.\n",
    "    \n",
    "    Lambda functions are different from regular functions in a few ways:\n",
    "\n",
    "    1.Syntax: Lambda functions are defined using the lambda keyword, followed by a comma-separated list of input\n",
    "        parameters, a colon, and the expression to be evaluated and returned.\n",
    "\n",
    "    2.Expression: Lambda functions can only consist of a single expression. They are designed for short and simple \n",
    "        operations.\n",
    "\n",
    "    3.No Function Name: Lambda functions do not have a name like regular functions. They are anonymous and are \n",
    "        usually assigned to a variable or used as an argument within a function."
   ]
  },
  {
   "cell_type": "code",
   "execution_count": null,
   "id": "0efc995b",
   "metadata": {},
   "outputs": [],
   "source": [
    "     Ex: A lambda function can be useful. Lets say you have a list of numbers and you want to sort them based on \n",
    "        their remainder when divided by 5. You can use a lambda function as the key argument in the sorted() \n",
    "        function to achieve this:"
   ]
  },
  {
   "cell_type": "code",
   "execution_count": 3,
   "id": "c6252a6a",
   "metadata": {},
   "outputs": [
    {
     "name": "stdout",
     "output_type": "stream",
     "text": [
      "[10, 7, 22, 3, 19]\n"
     ]
    }
   ],
   "source": [
    "numbers = [10, 3, 7, 22, 19]\n",
    "\n",
    "sorted_numbers = sorted(numbers, key=lambda x: x % 5)\n",
    "\n",
    "print(sorted_numbers)"
   ]
  },
  {
   "cell_type": "code",
   "execution_count": null,
   "id": "3da91e3f",
   "metadata": {},
   "outputs": [],
   "source": [
    "5. How does the concept of \"scope\" apply to functions in Python? Explain the difference between localscope and\n",
    "    global scope."
   ]
  },
  {
   "cell_type": "code",
   "execution_count": null,
   "id": "86b2804c",
   "metadata": {},
   "outputs": [],
   "source": [
    "A. In Python, scope refers to the region of a program where a particular name (variable, function, etc.) is defined \n",
    "    and can be accessed. It determines the visibility and accessibility of names in a program.\n",
    "    \n",
    "    I.Local Scope:\n",
    "\n",
    "    1.Local scope refers to the region within a function where local variables are defined.\n",
    "    2.Local variables are variables that are created inside a function and can only be accessed within that function.\n",
    "    3.Local scope is created every time a function is called and is destroyed when the function completes execution.\n",
    "    4.Local variables cannot be accessed from outside the function or from other functions.\n",
    "    5.Local scope provides a level of encapsulation, allowing variables with the same name to exist independently \n",
    "      in different functions."
   ]
  },
  {
   "cell_type": "code",
   "execution_count": null,
   "id": "0953ae0e",
   "metadata": {},
   "outputs": [],
   "source": [
    "#Ex:\n",
    "def my_function():\n",
    "    x = 10  # Local variable\n",
    "    print(x)\n",
    "\n",
    "my_function()  # Output: 10\n",
    "print(x)  # Raises NameError: name 'x' is not defined\n",
    "\n",
    "#   Ex: the variable x is defined within the my_function() function. \n",
    "#   It is a local variable and can only be accessed within that function. Attempting to access x outside the function \n",
    "#   results in a NameError."
   ]
  },
  {
   "cell_type": "code",
   "execution_count": null,
   "id": "3feb3eca",
   "metadata": {},
   "outputs": [],
   "source": [
    "    II.Global Scope:\n",
    "\n",
    "    1.Global scope refers to the region outside any function or class where global variables are defined.\n",
    "    2.Global variables are variables that are defined outside functions and can be accessed from anywhere in the program.\n",
    "    3.Global variables have a global scope and can be accessed by any function or code block within the program.\n",
    "    4.Global scope exists throughout the lifetime of the program."
   ]
  },
  {
   "cell_type": "code",
   "execution_count": 5,
   "id": "d942efc5",
   "metadata": {},
   "outputs": [
    {
     "name": "stdout",
     "output_type": "stream",
     "text": [
      "10\n",
      "10\n"
     ]
    }
   ],
   "source": [
    "#Ex:\n",
    "x = 10         # Global variable\n",
    "\n",
    "def my_function():\n",
    "    print(x)\n",
    "\n",
    "my_function()  # Output: 10\n",
    "print(x)       # Output: 10"
   ]
  },
  {
   "cell_type": "code",
   "execution_count": null,
   "id": "ee3c7780",
   "metadata": {},
   "outputs": [],
   "source": [
    "6. How can you use the \"return\" statement in a Python function to return multiple values?"
   ]
  },
  {
   "cell_type": "code",
   "execution_count": null,
   "id": "ae2e6af4",
   "metadata": {},
   "outputs": [],
   "source": [
    "A. Python return multiple values:\n",
    "    1.Comma-separated values (Tuples)\n",
    "    2.Python List\n",
    "    3.Python Dictionary\n",
    "    4.Using Python Data Class\n",
    "    \n",
    "Functions are used to perform a specific task which most likely involves returning a particular value. \n",
    "However, a few use-cases may require you to return two or more values. In other programming languages,\n",
    "the code to achieve this might be quite complex but Python provides a few handy methods to return multiple values."
   ]
  },
  {
   "cell_type": "code",
   "execution_count": null,
   "id": "55237a32",
   "metadata": {},
   "outputs": [],
   "source": [
    "1. Using Comma-separated values (Tuples):\n",
    "    In this method, we use Python to return multiple values by simply separating them by commas.\n",
    "    Python basically uses a tuple to achieve this."
   ]
  },
  {
   "cell_type": "code",
   "execution_count": 1,
   "id": "06156a1f",
   "metadata": {},
   "outputs": [
    {
     "name": "stdout",
     "output_type": "stream",
     "text": [
      "Sum 15\n"
     ]
    }
   ],
   "source": [
    "def multiple():                             #Returning Multiple Values using Tuples\n",
    "    operation = \"Sum\" \n",
    "    total = 5+10\n",
    "    return operation, total;\n",
    "\n",
    "operation, total = multiple()\n",
    "\n",
    "print(operation, total)"
   ]
  },
  {
   "cell_type": "code",
   "execution_count": null,
   "id": "c3055f85",
   "metadata": {},
   "outputs": [],
   "source": [
    "2. Using Python Lists:\n",
    "    Similar to the previous methods, lists can also be used to return multiple values, too. \n",
    "    In case you are not familiar with lists, they are a collection of items. \n",
    "    They are quite similar to arrays however they can be used to store values of various data types.\n",
    "\n",
    "    Since they are a collection of items we could add values to the list and return the list.\n",
    "    In this method, you would have to use the index of the list to use the values individually."
   ]
  },
  {
   "cell_type": "code",
   "execution_count": 3,
   "id": "7a314369",
   "metadata": {},
   "outputs": [
    {
     "name": "stdout",
     "output_type": "stream",
     "text": [
      "['Sum', 15]\n"
     ]
    }
   ],
   "source": [
    "def multiple():                             #Returning Multiple Values using List\n",
    "    operation = \"Sum\" \n",
    "    total = 5+10\n",
    "    return [operation, total];\n",
    "\n",
    "values = multiple()\n",
    "\n",
    "print(values)"
   ]
  },
  {
   "cell_type": "code",
   "execution_count": null,
   "id": "dbfc297d",
   "metadata": {},
   "outputs": [],
   "source": [
    "3. Using a Python Dictionary:\n",
    "    In the previous method, accessing a particular value would be a hassle. However, this would not be a problem \n",
    "    while using dictionaries to return multiple values. This is because we could use relevant key names and they \n",
    "    could be accessed easily."
   ]
  },
  {
   "cell_type": "code",
   "execution_count": 7,
   "id": "abcd8f76",
   "metadata": {},
   "outputs": [
    {
     "name": "stdout",
     "output_type": "stream",
     "text": [
      "{'operation': 'Sum', 'total': 15}\n"
     ]
    }
   ],
   "source": [
    "def multiple():                             #Returning Multiple Values using Dictionary\n",
    "    values = dict();\n",
    "    values['operation'] = \"Sum\" \n",
    "    values['total'] = 5+10\n",
    "    return values;\n",
    "\n",
    "values = multiple()\n",
    "\n",
    "print(values)"
   ]
  },
  {
   "cell_type": "code",
   "execution_count": null,
   "id": "3556f21a",
   "metadata": {},
   "outputs": [],
   "source": [
    "4. Using a Python Data Class:\n",
    "    In this method, we use Data Classes to return multiple values. Data classes are a method of adding specific\n",
    "    methods to a user-defined class. This method was introduced in Python version 3.7."
   ]
  },
  {
   "cell_type": "code",
   "execution_count": 6,
   "id": "f43b7e34",
   "metadata": {},
   "outputs": [
    {
     "name": "stdout",
     "output_type": "stream",
     "text": [
      "15\n",
      "multiplevalues(operation='Addition', num1=5, num2=10)\n"
     ]
    }
   ],
   "source": [
    "from dataclasses import dataclass                      \n",
    "                                             #Returning Multiple Values using Data Classes \n",
    "@dataclass\n",
    "class multiplevalues():\n",
    "    operation: str\n",
    "    num1: int = 0\n",
    "    num2: int = 0\n",
    "    def values(self) -> float:\n",
    "        return self.num1 + self.num2   \n",
    "\n",
    "#passing arguments into the Data Class \n",
    "all_values = multiplevalues(\"Addition\", 5, 10)\n",
    "v = all_values.values() \n",
    "\n",
    "print(v)\n",
    "print(all_values)"
   ]
  },
  {
   "cell_type": "code",
   "execution_count": null,
   "id": "a8460a75",
   "metadata": {},
   "outputs": [],
   "source": [
    "7. What is the difference between the \"pass by value\" and \"pass by reference\" concepts when it comes to function \n",
    "    arguments in Python?"
   ]
  },
  {
   "cell_type": "code",
   "execution_count": null,
   "id": "9d2c19a5",
   "metadata": {},
   "outputs": [],
   "source": [
    "A. The concepts of \"pass by value\" and \"pass by reference\" are often misunderstood because the underlying behavior is \n",
    "    slightly different compared to some other programming languages.\n",
    "    Python uses a different mechanism called \"pass by assignment\" or \"call by object.\" It means that when you pass an \n",
    "    argument to a function, a new reference to the object is created and assigned to the parameter in the function. \n",
    "    The key point to understand is that Python does not pass the actual objects themselves, but rather references to \n",
    "    those objects.\n",
    "    \n",
    "    1.Pass by Value: In a language that strictly follows pass by value, a copy of the value is made and passed to the \n",
    "    function. Any modifications made to the parameter within the function do not affect the original value outside the \n",
    "    function. However, in Python, even though it appears to be pass by value for immutable objects (like integers, strings,\n",
    "    tuples), its actually pass by assignment. Changes made to immutable objects within the function create a new object,\n",
    "    but the original object remains unaffected."
   ]
  },
  {
   "cell_type": "code",
   "execution_count": 1,
   "id": "9bc3e73a",
   "metadata": {},
   "outputs": [
    {
     "name": "stdout",
     "output_type": "stream",
     "text": [
      "Inside function: 11\n",
      "Outside function: 10\n"
     ]
    }
   ],
   "source": [
    "def increment(num):                                 #  The value of num within the function is incremented, but it doesn't               \n",
    "num += 1                                            #  affect the original value outside the function because integers are \n",
    "    print(\"Inside function:\", num)                  #  immutable in Python.\n",
    "\n",
    "value = 10\n",
    "increment(value)\n",
    "print(\"Outside function:\", value)"
   ]
  },
  {
   "cell_type": "code",
   "execution_count": null,
   "id": "705fe735",
   "metadata": {},
   "outputs": [],
   "source": [
    "    2.Pass by Reference: In pass by reference, a reference to the original object is passed to the function.\n",
    "    Any changes made to the parameter within the function will affect the original object outside the function. \n",
    "    In Python, mutable objects like lists, dictionaries, and objects of custom classes behave similarly to pass by \n",
    "    reference.\n",
    "    Python may appear to use pass by value for immutable objects and pass by reference for mutable objects, it is \n",
    "    actually using pass by assignment, where the assignment of the reference to the parameter creates the effect of\n",
    "    passing objects to functions."
   ]
  },
  {
   "cell_type": "code",
   "execution_count": 2,
   "id": "0879d63a",
   "metadata": {},
   "outputs": [
    {
     "name": "stdout",
     "output_type": "stream",
     "text": [
      "Inside function: [1, 2, 3, 4]\n",
      "Outside function: [1, 2, 3, 4]\n"
     ]
    }
   ],
   "source": [
    "def modify_list(my_list):                           # The my_list parameter is modified within the function by \n",
    "    my_list.append(4)                               # appending an element. This change is reflected in the\n",
    "    print(\"Inside function:\", my_list)              # original my_list outside the function because lists are mutable.\n",
    "\n",
    "my_list = [1, 2, 3]\n",
    "modify_list(my_list)\n",
    "print(\"Outside function:\", my_list)"
   ]
  },
  {
   "cell_type": "code",
   "execution_count": null,
   "id": "b744e8a3",
   "metadata": {},
   "outputs": [],
   "source": [
    "8. Create a function that can intake integer or decimal value and do following operations:\n",
    "    a. Logarithmic function (log x)\n",
    "    b. Exponential function (exp(x))\n",
    "    c. Power function with base 2 (2x)\n",
    "    d. Square root"
   ]
  },
  {
   "cell_type": "code",
   "execution_count": null,
   "id": "e23fa37d",
   "metadata": {},
   "outputs": [],
   "source": [
    "A. You can then call this function by passing an integer or decimal value, and it will return the results of the \n",
    "    logarithmic function, exponential function, power function with base 2, and square root."
   ]
  },
  {
   "cell_type": "code",
   "execution_count": 3,
   "id": "95719c04",
   "metadata": {},
   "outputs": [],
   "source": [
    "import math\n",
    "\n",
    "def perform_operations(number):\n",
    "    logarithm = math.log(number)\n",
    "    exponential = math.exp(number)\n",
    "    power_of_two = math.pow(2, number)\n",
    "    square_root = math.sqrt(number)\n",
    "    \n",
    "    return logarithm, exponential, power_of_two, square_root"
   ]
  },
  {
   "cell_type": "code",
   "execution_count": 11,
   "id": "e82c05de",
   "metadata": {},
   "outputs": [
    {
     "name": "stdout",
     "output_type": "stream",
     "text": [
      "(0.6931471805599453, 7.38905609893065, 4.0, 1.4142135623730951)\n"
     ]
    }
   ],
   "source": [
    "result = perform_operations(2)\n",
    "print(result)"
   ]
  },
  {
   "cell_type": "code",
   "execution_count": null,
   "id": "84694062",
   "metadata": {},
   "outputs": [],
   "source": [
    "In this example, the input value is 2.5. The function calculates the logarithm, exponential, power of two, and square\n",
    "root of 2.5, and returns them as a tuple. You can then access each individual result by indexing the tuple \n",
    "(e.g., result[0] for the logarithmic value)."
   ]
  },
  {
   "cell_type": "code",
   "execution_count": null,
   "id": "7933ed1b",
   "metadata": {},
   "outputs": [],
   "source": [
    "9. Create a function that takes a full name as an argument and returns first name and last name."
   ]
  },
  {
   "cell_type": "code",
   "execution_count": null,
   "id": "e5c50aa6",
   "metadata": {},
   "outputs": [],
   "source": [
    "A. Ex: A Python function that takes a full name as an argument and returns the first name and last name:"
   ]
  },
  {
   "cell_type": "code",
   "execution_count": 1,
   "id": "98050bab",
   "metadata": {},
   "outputs": [],
   "source": [
    "def get_first_and_last_name(full_name):\n",
    "    # Split the full name into individual parts\n",
    "    name_parts = full_name.split()\n",
    "\n",
    "    # The first name is the first element of the name_parts list\n",
    "    first_name = name_parts[0]\n",
    "\n",
    "    # The last name is the last element of the name_parts list\n",
    "    last_name = name_parts[-1]\n",
    "\n",
    "    # Return the first name and last name as a tuple\n",
    "    return first_name, last_name"
   ]
  },
  {
   "cell_type": "code",
   "execution_count": null,
   "id": "d2e965bd",
   "metadata": {},
   "outputs": [],
   "source": [
    "Using this function by passing a full name as a string, and it will return a tuple containing the first name and last name.\n",
    "Ex:"
   ]
  },
  {
   "cell_type": "code",
   "execution_count": 4,
   "id": "38706c90",
   "metadata": {},
   "outputs": [
    {
     "name": "stdout",
     "output_type": "stream",
     "text": [
      "First name: PRATIK\n",
      "Last name: KANOJIA\n"
     ]
    }
   ],
   "source": [
    "name = \"PRATIK KANOJIA\"\n",
    "first_name, last_name = get_first_and_last_name(name)\n",
    "print(\"First name:\", first_name)\n",
    "print(\"Last name:\", last_name)"
   ]
  }
 ],
 "metadata": {
  "kernelspec": {
   "display_name": "Python 3 (ipykernel)",
   "language": "python",
   "name": "python3"
  },
  "language_info": {
   "codemirror_mode": {
    "name": "ipython",
    "version": 3
   },
   "file_extension": ".py",
   "mimetype": "text/x-python",
   "name": "python",
   "nbconvert_exporter": "python",
   "pygments_lexer": "ipython3",
   "version": "3.10.9"
  }
 },
 "nbformat": 4,
 "nbformat_minor": 5
}
