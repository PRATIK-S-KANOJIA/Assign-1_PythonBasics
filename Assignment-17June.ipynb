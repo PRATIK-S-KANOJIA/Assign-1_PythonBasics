{
 "cells": [
  {
   "cell_type": "code",
   "execution_count": null,
   "id": "aa16eaa5",
   "metadata": {},
   "outputs": [],
   "source": [
    "1. What is the role of try and exception block?"
   ]
  },
  {
   "cell_type": "code",
   "execution_count": null,
   "id": "60600195",
   "metadata": {},
   "outputs": [],
   "source": [
    "A. The try and except block in programming is a mechanism used for handling exceptions or errors that may occur\n",
    "    during the execution of a program. When certain code is susceptible to raise an exception that can disrupt the normal \n",
    "    flow of the program, you can use the try and except block to gracefully handle those exceptions and prevent the \n",
    "    program from crashing.\n",
    "\n",
    "    The general syntax of a try and except block looks like this:"
   ]
  },
  {
   "cell_type": "code",
   "execution_count": null,
   "id": "0b4e2731",
   "metadata": {},
   "outputs": [],
   "source": [
    "try:\n",
    "    # Code that may raise an exception\n",
    "    # ...\n",
    "except SomeExceptionType:\n",
    "    # Code to handle the exception\n",
    "    # ..."
   ]
  },
  {
   "cell_type": "code",
   "execution_count": null,
   "id": "96b715ee",
   "metadata": {},
   "outputs": [],
   "source": [
    "2. What is the syntax for a basic try-except block?"
   ]
  },
  {
   "cell_type": "code",
   "execution_count": null,
   "id": "a1a164e3",
   "metadata": {},
   "outputs": [],
   "source": [
    "A. try: The try keyword starts the try-except block and is followed by a colon (:). The code that you want to execute,\n",
    "    which might raise an exception, goes inside the try block.\n",
    "\n",
    "except: The except keyword is used to specify the exception type that you want to catch. If an exception of this type\n",
    "    (or one of its subclasses) occurs in the try block, the code inside the corresponding except block will be executed.\n",
    "    After the except keyword, you specify the exception type you want to handle, followed by a colon (:)."
   ]
  },
  {
   "cell_type": "code",
   "execution_count": null,
   "id": "82e94163",
   "metadata": {},
   "outputs": [],
   "source": [
    "3. What happens if an exception occurs inside a try block and there is no matching except block?"
   ]
  },
  {
   "cell_type": "code",
   "execution_count": null,
   "id": "e84228ce",
   "metadata": {},
   "outputs": [],
   "source": [
    "A. If any exception occurs, the try clause will be skipped and except clause will run. If any exception occurs, but \n",
    "    the except clause within the code doesnt handle it, it is passed on to the outer try statements. If the exception \n",
    "    is left unhandled, then the execution stops."
   ]
  },
  {
   "cell_type": "code",
   "execution_count": null,
   "id": "287c69ff",
   "metadata": {},
   "outputs": [],
   "source": [
    "4. What is the difference between using a bare except block and specifying a specific exception type?"
   ]
  },
  {
   "cell_type": "code",
   "execution_count": null,
   "id": "7d4d6336",
   "metadata": {},
   "outputs": [],
   "source": [
    "A. The difference between using a bare except block and specifying a specific exception type lies in the level of \n",
    "    control and handling of exceptions in your code.\n",
    "    \n",
    "## Bare except block:\n",
    "    Using a bare except block means catching all types of exceptions that might occur within the try block.\n",
    "    This includes built-in exceptions like ZeroDivisionError, ValueError, TypeError, and any other custom exceptions \n",
    "    that might be raised. The problem with using a bare except block is that it makes it difficult to differentiate\n",
    "    between different types of exceptions and may hide unexpected errors.\n",
    "    \n",
    "    Example of bare except block:\n",
    "try:\n",
    "    # Code that may raise an exception\n",
    "    # ...\n",
    "except:\n",
    "    # Code to handle any type of exception\n",
    "    # ...\n",
    "    \n",
    "## Specific exception type:\n",
    "    Specifying a specific exception type in the except block allows you to catch only the specified exception or its \n",
    "    subclasses. This provides better control over exception handling, allowing you to handle different exceptions\n",
    "    differently and take appropriate actions based on the type of error.\n",
    "    \n",
    "    Example of specific exception type:\n",
    "try:\n",
    "    # Code that may raise an exception\n",
    "    # ...\n",
    "except SomeExceptionType:\n",
    "    # Code to handle SomeExceptionType\n",
    "    # ..."
   ]
  },
  {
   "cell_type": "code",
   "execution_count": null,
   "id": "bf1354aa",
   "metadata": {},
   "outputs": [],
   "source": [
    "## Advantages of specifying a specific exception type:\n",
    "\n",
    "1. Clarity: It makes the code more readable and self-explanatory because it explicitly states which exceptions are \n",
    "    expected and handled.\n",
    "\n",
    "2. Better error handling: You can provide tailored error messages or specific handling mechanisms for different types\n",
    "    of exceptions, making it easier to debug and fix issues.\n",
    "\n",
    "3. Preventing silent errors: Using a bare except block may silently catch unexpected errors, making it harder to identify\n",
    "    the root cause of problems. By using specific exception types, you can avoid inadvertently ignoring critical issues."
   ]
  },
  {
   "cell_type": "code",
   "execution_count": null,
   "id": "989e187e",
   "metadata": {},
   "outputs": [],
   "source": [
    "5. Can you have nested try-except blocks in Python? If yes, then give an example."
   ]
  },
  {
   "cell_type": "code",
   "execution_count": null,
   "id": "673756b2",
   "metadata": {},
   "outputs": [],
   "source": [
    "A. Yes, you can have nested try-except blocks in Python. This means that you can place one try-except block inside another,\n",
    "    allowing you to handle exceptions at different levels of your code.\n",
    "\n",
    "The syntax for nested try-except blocks is straightforward. You can place a complete try-except block (including the try\n",
    "    and except keywords and the corresponding code) inside the try block or except block of an outer try-except block.\n",
    "\n",
    "Heres an example of nested try-except blocks:"
   ]
  },
  {
   "cell_type": "code",
   "execution_count": 2,
   "id": "7155fd45",
   "metadata": {},
   "outputs": [
    {
     "name": "stdout",
     "output_type": "stream",
     "text": [
      "Enter the first number: 20\n",
      "Enter the second number: 2\n",
      "Result: 10.0\n"
     ]
    }
   ],
   "source": [
    "def division_example(x, y):\n",
    "    try:\n",
    "        result = x / y\n",
    "        print(\"Result:\", result)\n",
    "    except ZeroDivisionError:\n",
    "        print(\"Error: Cannot divide by zero.\")\n",
    "    except TypeError:\n",
    "        print(\"Error: Invalid data type for division.\")\n",
    "\n",
    "def main():\n",
    "    try:\n",
    "        a = int(input(\"Enter the first number: \"))\n",
    "        b = int(input(\"Enter the second number: \"))\n",
    "        division_example(a, b)\n",
    "    except ValueError:\n",
    "        print(\"Error: Invalid input. Please enter valid integers.\")\n",
    "\n",
    "if __name__ == \"__main__\":\n",
    "    main()"
   ]
  },
  {
   "cell_type": "code",
   "execution_count": null,
   "id": "3781fd66",
   "metadata": {},
   "outputs": [],
   "source": [
    "In this example, we have two functions: division_example and main. The division_example function takes two arguments and\n",
    "    attempts to perform a division. It has its own try-except block to handle division-related errors like \n",
    "    ZeroDivisionError and TypeError.\n",
    "\n",
    "The main function takes user input, calls the division_example function, and has its own try-except block to handle \n",
    "    input-related errors like ValueError.\n",
    "\n",
    "When you run the code, you can test different scenarios, such as providing invalid input (non-numeric values), attempting\n",
    "    to divide by zero, or providing valid input for division.\n",
    "\n",
    "Having nested try-except blocks allows you to handle specific errors at different levels of your program. This can lead \n",
    "    to better error handling and more informative messages for different types of exceptions, helping you understand and \n",
    "    resolve issues more effectively."
   ]
  },
  {
   "cell_type": "code",
   "execution_count": null,
   "id": "f67eca23",
   "metadata": {},
   "outputs": [],
   "source": [
    "6. Can we use multiple exception blocks, if yes then give an example."
   ]
  },
  {
   "cell_type": "code",
   "execution_count": null,
   "id": "8772e512",
   "metadata": {},
   "outputs": [],
   "source": [
    "A. Yes, in many programming languages, including Python, you can use multiple exception blocks to handle different types \n",
    "    of exceptions separately. This allows you to customize the actions taken based on the specific type of exception that \n",
    "    occurs. Each exception block can handle a specific type of exception, and you can have as many blocks as needed.\n",
    "\n",
    "    Heres an example in Python where we use multiple exception blocks:"
   ]
  },
  {
   "cell_type": "code",
   "execution_count": null,
   "id": "521c9b93",
   "metadata": {},
   "outputs": [],
   "source": [
    "def divide_numbers(a, b):\n",
    "    try:\n",
    "        result = a / b\n",
    "        print(\"The result of division is:\", result)\n",
    "    except ZeroDivisionError:\n",
    "        print(\"Error: Cannot divide by zero!\")\n",
    "    except TypeError:\n",
    "        print(\"Error: Unsupported data types for division!\")\n",
    "    except Exception as e:\n",
    "        print(\"An unexpected error occurred:\", e)\n",
    "\n",
    "# Test the function with different scenarios\n",
    "divide_numbers(10, 2)       # Valid division\n",
    "divide_numbers(10, 0)       # Division by zero\n",
    "divide_numbers(10, \"hello\") # Division with unsupported data types"
   ]
  },
  {
   "cell_type": "code",
   "execution_count": null,
   "id": "828eac73",
   "metadata": {},
   "outputs": [],
   "source": [
    "In this example, we have three different exception blocks:\n",
    "\n",
    "1. The first block (except ZeroDivisionError) catches the specific exception when attempting to divide by zero.\n",
    "2. The second block (except TypeError) catches the exception that may occur if the data types of a and b are not suitable\n",
    "    for division (e.g., trying to divide a number by a string).\n",
    "3. The third block (except Exception as e) is a generic exception block that catches any other exceptions not explicitly\n",
    "    handled by the previous blocks. Its usually a good practice to have a generic catch-all block to handle unexpected \n",
    "    errors gracefully and display useful error information."
   ]
  },
  {
   "cell_type": "code",
   "execution_count": null,
   "id": "eb54b63b",
   "metadata": {},
   "outputs": [],
   "source": [
    "7. Write the reason due to which following errors are raised:\n",
    "a. EOFError\n",
    "b. FloatingPointError\n",
    "c. IndexError\n",
    "d. MemoryError\n",
    "e. OverflowError\n",
    "f. TabError\n",
    "g. ValueError"
   ]
  },
  {
   "cell_type": "code",
   "execution_count": null,
   "id": "b5f2f79b",
   "metadata": {},
   "outputs": [],
   "source": [
    "A. \n",
    "#a. EOFError:\n",
    "\n",
    "An EOFError (End of File Error) is raised when an input operation reaches the end of a file or input stream before obtaining\n",
    "    any data. It usually occurs when attempting to read from a file or input source that doesnt contain any further data.\n",
    "\n",
    "#b. FloatingPointError:\n",
    "\n",
    "A FloatingPointError is raised when a floating-point operation encounters an exceptional condition that cannot be handled.\n",
    "    This typically occurs when there is an error in a mathematical operation involving floating-point numbers, such as \n",
    "    division by zero or an invalid mathematical operation.\n",
    "    \n",
    "#c. IndexError:\n",
    "\n",
    "An IndexError is raised when attempting to access an index that is outside the range of valid indices for a sequence \n",
    "    (e.g., a list, tuple, or string). It typically occurs when trying to access an element at an index that doesnt exist\n",
    "    in the sequence.\n",
    "    \n",
    "#d. MemoryError:\n",
    "\n",
    "A MemoryError is raised when a program exceeds the available memory resources for allocation. It occurs when there is \n",
    "    insufficient memory to create new objects or allocate memory for existing objects.\n",
    "    \n",
    "#e. OverflowError:\n",
    "\n",
    "An OverflowError is raised when a mathematical operation exceeds the maximum representable value for a numeric type.\n",
    "    It typically occurs when performing calculations that result in a value outside the range that can be represented \n",
    "    by the data type, such as exceeding the maximum value of an integer.\n",
    "    \n",
    "#f. TabError:\n",
    "\n",
    "A TabError is raised when there is an issue with the indentation of code that uses a mix of tabs and spaces inconsistently. \n",
    "    It usually occurs when the indentation does not conform to the languages specific indentation rules, such as in Python.\n",
    "\n",
    "#g. ValueError:\n",
    "\n",
    "A ValueError is raised when a function receives an argument of the correct type but with an inappropriate value. It occurs\n",
    "    when the input value provided to a function is not valid or does not satisfy certain conditions or constraints required\n",
    "    by the function.\n",
    "\n",
    "    These errors provide specific information about the nature of the problem encountered during the execution of a program,\n",
    "helping developers diagnose and handle exceptional situations appropriately."
   ]
  },
  {
   "cell_type": "code",
   "execution_count": null,
   "id": "27e58768",
   "metadata": {},
   "outputs": [],
   "source": [
    "8. Write code for the following given scenario and add try-exception block to it.\n",
    "a. Program to divide two numbers\n",
    "b. Program to convert a string to an integer\n",
    "c. Program to access an element in a list\n",
    "d. Program to handle a specific exception\n",
    "e. Program to handle any exception"
   ]
  },
  {
   "cell_type": "code",
   "execution_count": 13,
   "id": "dea20d63",
   "metadata": {},
   "outputs": [
    {
     "name": "stdout",
     "output_type": "stream",
     "text": [
      "Error: Cannot divide by zero!\n",
      "The result of division is: 5.0\n"
     ]
    }
   ],
   "source": [
    "#A. a. Program to divide two numbers:\n",
    "\n",
    "def divide_numbers(a, b):\n",
    "    try:\n",
    "        result = a / b\n",
    "        print(\"The result of division is:\", result)\n",
    "    except ZeroDivisionError:\n",
    "        print(\"Error: Cannot divide by zero!\")\n",
    "\n",
    "divide_numbers(10, 0)\n",
    "divide_numbers(10, 2)"
   ]
  },
  {
   "cell_type": "code",
   "execution_count": 15,
   "id": "98fb5bbc",
   "metadata": {},
   "outputs": [
    {
     "name": "stdout",
     "output_type": "stream",
     "text": [
      "Converted integer: 123\n",
      "Error: Invalid input. Could not convert to an integer.\n"
     ]
    }
   ],
   "source": [
    "#b. Program to convert a string to an integer:\n",
    "\n",
    "def convert_to_integer(string_number):\n",
    "    try:\n",
    "        integer_value = int(string_number)\n",
    "        print(\"Converted integer:\", integer_value)\n",
    "    except ValueError:\n",
    "        print(\"Error: Invalid input. Could not convert to an integer.\")\n",
    "\n",
    "convert_to_integer(\"123\")\n",
    "convert_to_integer(\"PRSK\")"
   ]
  },
  {
   "cell_type": "code",
   "execution_count": 16,
   "id": "ba83771b",
   "metadata": {},
   "outputs": [
    {
     "name": "stdout",
     "output_type": "stream",
     "text": [
      "Element at index 2 is: 3\n",
      "Error: Index out of range. The list does not have an element at index 10.\n"
     ]
    }
   ],
   "source": [
    "#c. Program to access an element in a list:\n",
    "\n",
    "def access_list_element(lst, index):\n",
    "    try:\n",
    "        element = lst[index]\n",
    "        print(\"Element at index {} is: {}\".format(index, element))\n",
    "    except IndexError:\n",
    "        print(\"Error: Index out of range. The list does not have an element at index {}.\".format(index))\n",
    "\n",
    "my_list = [1, 2, 3, 4, 5]\n",
    "access_list_element(my_list, 2)\n",
    "access_list_element(my_list, 10)"
   ]
  },
  {
   "cell_type": "code",
   "execution_count": 17,
   "id": "fa701efd",
   "metadata": {},
   "outputs": [
    {
     "name": "stdout",
     "output_type": "stream",
     "text": [
      "The result of division is: 5.0\n",
      "Error: Cannot divide by zero!\n"
     ]
    }
   ],
   "source": [
    "#d. Program to handle a specific exception:\n",
    "\n",
    "def divide_numbers(a, b):\n",
    "    try:\n",
    "        result = a / b\n",
    "        print(\"The result of division is:\", result)\n",
    "    except ZeroDivisionError:\n",
    "        print(\"Error: Cannot divide by zero!\")\n",
    "    except ValueError:\n",
    "        print(\"Error: Invalid value provided.\")\n",
    "\n",
    "divide_numbers(10, 2)\n",
    "divide_numbers(10, 0)"
   ]
  },
  {
   "cell_type": "code",
   "execution_count": 18,
   "id": "3ecfbaac",
   "metadata": {},
   "outputs": [
    {
     "name": "stdout",
     "output_type": "stream",
     "text": [
      "The result of division is: 5.0\n",
      "An unexpected error occurred: division by zero\n",
      "An unexpected error occurred: unsupported operand type(s) for /: 'int' and 'str'\n"
     ]
    }
   ],
   "source": [
    "#e. Program to handle any exception:\n",
    "\n",
    "def perform_operation(a, b):\n",
    "    try:\n",
    "        result = a / b\n",
    "        print(\"The result of division is:\", result)\n",
    "    except Exception as e:\n",
    "        print(\"An unexpected error occurred:\", e)\n",
    "        \n",
    "perform_operation(10, 2)\n",
    "perform_operation(10, 0)\n",
    "perform_operation(10, \"hello\")"
   ]
  },
  {
   "cell_type": "code",
   "execution_count": null,
   "id": "0f8a5c2c",
   "metadata": {},
   "outputs": [],
   "source": [
    "In scenario (d), we used multiple except blocks to handle specific exceptions (ZeroDivisionError and ValueError). \n",
    "In scenario (e), we used a generic except block (except Exception as e) to catch any exception that was not explicitly\n",
    "handled. Note that while using a generic except block can catch any exception, it is generally better to handle specific\n",
    "exceptions whenever possible for more targeted error handling."
   ]
  }
 ],
 "metadata": {
  "kernelspec": {
   "display_name": "Python 3 (ipykernel)",
   "language": "python",
   "name": "python3"
  },
  "language_info": {
   "codemirror_mode": {
    "name": "ipython",
    "version": 3
   },
   "file_extension": ".py",
   "mimetype": "text/x-python",
   "name": "python",
   "nbconvert_exporter": "python",
   "pygments_lexer": "ipython3",
   "version": "3.10.9"
  }
 },
 "nbformat": 4,
 "nbformat_minor": 5
}
