{
 "cells": [
  {
   "cell_type": "code",
   "execution_count": null,
   "id": "ccf84dc7",
   "metadata": {},
   "outputs": [],
   "source": [
    "Q.1. Create two int type variables, apply addition, subtraction, division and multiplications\n",
    "    and store the results in variables. Then print the data in the following format by calling the\n",
    "    variables:\n",
    "    First variable is __ & second variable is __.\n",
    "    Addition: __ + __ = __\n",
    "    Subtraction: __ - __ = __\n",
    "    Multiplication: __ * __ = __\n",
    "    Division: __ / __ = __"
   ]
  },
  {
   "cell_type": "code",
   "execution_count": 15,
   "id": "b26c127f",
   "metadata": {},
   "outputs": [
    {
     "name": "stdout",
     "output_type": "stream",
     "text": [
      "First Val :50\n",
      "Second Val :10\n",
      "Addition of        50 + 10 is  : 60\n",
      "Substraction of    50 - 10 is  : 40\n",
      "Multiplication of  50 * 10 is  : 500\n",
      "Division of        50 / 10 is  : 5.0\n"
     ]
    }
   ],
   "source": [
    "#A.\n",
    "FirstV = int(input(\"First Val :\"))            #FirstValue\n",
    "SecondV = int(input(\"Second Val :\"))           #SecondValue\n",
    "\n",
    "Addition = FirstV + SecondV        \n",
    "Substraction = FirstV - SecondV\n",
    "Multiplication = FirstV * SecondV\n",
    "Division = FirstV / SecondV\n",
    "\n",
    "print(\"Addition of       \",FirstV,\"+\",SecondV,\"is  :\",Addition)\n",
    "print(\"Substraction of   \",FirstV,\"-\",SecondV,\"is  :\",Substraction)\n",
    "print(\"Multiplication of \",FirstV,\"*\",SecondV,\"is  :\",Multiplication)\n",
    "print(\"Division of       \",FirstV,\"/\",SecondV,\"is  :\",Division)"
   ]
  },
  {
   "cell_type": "code",
   "execution_count": null,
   "id": "9389106e",
   "metadata": {},
   "outputs": [],
   "source": [
    "Q.2. What is the difference between the following operators:\n",
    "    (i) ‘/’ & ‘//’\n",
    "    (ii) ‘**’ & ‘^’"
   ]
  },
  {
   "cell_type": "code",
   "execution_count": null,
   "id": "4d017a04",
   "metadata": {},
   "outputs": [],
   "source": [
    "A. \n",
    "    (i)‘/’ & ‘//’ : Single forward slash(/) is used as a division operator which will perform regular division,\n",
    "                    including decimal numbers. \n",
    "                    Double forward slash(//) is used as a integer division operator which performs division\n",
    "                    and returns the quotient as an integer & discards remainder.\n",
    "                    \n",
    "  (ii) ‘**’ & ‘^’ : The (**) operator is used for exponentiation, meaning it raises the left operand to the power \n",
    "                    of the right operand. \n",
    "                    The ^ operator, on the other hand, is the bitwise XOR (exclusive OR) operator in Python.\n",
    "                    It performs a bitwise XOR operation on the binary representations of two integers. "
   ]
  },
  {
   "cell_type": "code",
   "execution_count": null,
   "id": "a98ad72d",
   "metadata": {},
   "outputs": [],
   "source": [
    "Q.3. List the logical operators."
   ]
  },
  {
   "cell_type": "code",
   "execution_count": null,
   "id": "84056655",
   "metadata": {},
   "outputs": [],
   "source": [
    "A. \n",
    "\n",
    "    and: The and operator returns True if both operands are True, and False otherwise.\n",
    "            It performs a logical AND operation.\n",
    "\n",
    "    or: The or operator returns True if at least one of the operands is True, and \n",
    "            False if both operands are False. It performs a logical OR operation.\n",
    "\n",
    "    not: The not operator is a unary operator that returns the opposite boolean\n",
    "            value of its operand. If the operand is True, not returns False, and if the operand is False, \n",
    "            not returns True"
   ]
  },
  {
   "cell_type": "code",
   "execution_count": null,
   "id": "f1dcc9a7",
   "metadata": {},
   "outputs": [],
   "source": [
    "Q.4. Explain right shift operator and left shift operator with examples."
   ]
  },
  {
   "cell_type": "code",
   "execution_count": null,
   "id": "e58fc807",
   "metadata": {},
   "outputs": [],
   "source": [
    "A. In Python, the right shift (>>) and left shift (<<) operators are used to shift the bits of an integer value \n",
    "    to the right or left, respectively. These operators perform bitwise operations on the binary representation \n",
    "    of the numbers. The right shift operator (>>) shifts the bits of a number to the right by a specified number \n",
    "    of positions.\n",
    "    \n",
    "    Example: the binary representation of x is 1010. The >> operator shifts the bits of x two positions to the right.\n",
    "    The resulting binary representation is 0010, which is 2 in decimal form."
   ]
  },
  {
   "cell_type": "code",
   "execution_count": 6,
   "id": "2a2b6aec",
   "metadata": {},
   "outputs": [
    {
     "data": {
      "text/plain": [
       "2"
      ]
     },
     "execution_count": 6,
     "metadata": {},
     "output_type": "execute_result"
    }
   ],
   "source": [
    "x = 10\n",
    "y = x >> 2\n",
    "y"
   ]
  },
  {
   "cell_type": "code",
   "execution_count": null,
   "id": "db23b28f",
   "metadata": {},
   "outputs": [],
   "source": [
    "Q.5. Create a list containing int type data of length 15. Then write a code to check if 10 is\n",
    "present in the list or not."
   ]
  },
  {
   "cell_type": "code",
   "execution_count": 10,
   "id": "ffe3de2c",
   "metadata": {},
   "outputs": [
    {
     "name": "stdout",
     "output_type": "stream",
     "text": [
      "15\n",
      "10 is present in the list.\n"
     ]
    }
   ],
   "source": [
    "#A.\n",
    "listPRSK = [2,4,6,7,32,2,366,67,4,10,5,4,21,33,9]\n",
    "print(len(listPRSK))\n",
    "\n",
    "if 10 in listPRSK:\n",
    "    print(\"10 is present in the list.\")\n",
    "else:\n",
    "    print(\"10 is not present in the list.\")"
   ]
  }
 ],
 "metadata": {
  "kernelspec": {
   "display_name": "Python 3 (ipykernel)",
   "language": "python",
   "name": "python3"
  },
  "language_info": {
   "codemirror_mode": {
    "name": "ipython",
    "version": 3
   },
   "file_extension": ".py",
   "mimetype": "text/x-python",
   "name": "python",
   "nbconvert_exporter": "python",
   "pygments_lexer": "ipython3",
   "version": "3.10.9"
  }
 },
 "nbformat": 4,
 "nbformat_minor": 5
}
